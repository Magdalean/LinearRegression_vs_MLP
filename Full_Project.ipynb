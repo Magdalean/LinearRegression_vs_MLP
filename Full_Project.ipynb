{
 "metadata": {
  "language_info": {
   "codemirror_mode": {
    "name": "ipython",
    "version": 3
   },
   "file_extension": ".py",
   "mimetype": "text/x-python",
   "name": "python",
   "nbconvert_exporter": "python",
   "pygments_lexer": "ipython3",
   "version": "3.8.3-final"
  },
  "orig_nbformat": 2,
  "kernelspec": {
   "name": "Python 3.8.3 64-bit",
   "display_name": "Python 3.8.3 64-bit",
   "metadata": {
    "interpreter": {
     "hash": "8306fcba275c60fce5dfd6fb8357fc70adca5f61649644bfa153a6bd6514ea20"
    }
   }
  }
 },
 "nbformat": 4,
 "nbformat_minor": 2,
 "cells": [
  {
   "source": [
    "# Testing Linear Regression and MLP Models for Car Sale Prediction"
   ],
   "cell_type": "markdown",
   "metadata": {}
  },
  {
   "source": [
    "### Import Libraries"
   ],
   "cell_type": "markdown",
   "metadata": {}
  },
  {
   "cell_type": "code",
   "execution_count": 1,
   "metadata": {},
   "outputs": [],
   "source": [
    "import pandas as pd\n",
    "import numpy as np\n",
    "from numpy import where\n",
    "\n",
    "import tensorflow as tf\n",
    "from sklearn import preprocessing\n",
    "import statsmodels.formula.api as smf\n",
    "\n",
    "# Linear Regression/MLP functions \n",
    "\n",
    "from sklearn import datasets, linear_model\n",
    "from sklearn.metrics import mean_squared_error, r2_score, roc_auc_score, accuracy_score\n",
    "from sklearn.preprocessing import StandardScaler\n",
    "from sklearn.model_selection import train_test_split\n",
    "\n",
    "from math import sqrt\n",
    "from tensorflow.keras.layers import Input, Dense, Activation,Dropout\n",
    "from tensorflow.keras.models import Model\n",
    "import seaborn as sns\n",
    "# Custom functions\n",
    "from cars_funct import *\n",
    "from Assignment1_MLP import MLP_function\n"
   ]
  },
  {
   "source": [
    "### Read in full excel dataset"
   ],
   "cell_type": "markdown",
   "metadata": {}
  },
  {
   "cell_type": "code",
   "execution_count": 2,
   "metadata": {},
   "outputs": [
    {
     "output_type": "execute_result",
     "data": {
      "text/plain": [
       "   Price  Age     KM    Fuel   HP  MC   Color  Auto    CC  Drs  ...  AC  Comp  \\\n",
       "0  21000   26  31463  Petrol  195   0  Silver     0  1800    3  ...   1     0   \n",
       "1  20000   23  43612  Petrol  195   0     Red     0  1800    3  ...   1     1   \n",
       "2  19650   26  32191  Petrol  195   0     Red     0  1800    3  ...   1     1   \n",
       "3  21550   32  23002  Petrol  195   1   Black     0  1800    3  ...   1     1   \n",
       "4  22550   33  34133  Petrol  195   1    Grey     0  1800    3  ...   1     1   \n",
       "\n",
       "   CD  Clock  Pwin  PStr  Radio  SpM  M_Rim  Tow_Bar  \n",
       "0   1      1     1     1      0    0      1        0  \n",
       "1   0      1     1     1      0    1      1        0  \n",
       "2   0      1     1     1      0    1      1        0  \n",
       "3   1      1     1     1      0    1      1        0  \n",
       "4   1      1     1     1      0    1      1        0  \n",
       "\n",
       "[5 rows x 28 columns]"
      ],
      "text/html": "<div>\n<style scoped>\n    .dataframe tbody tr th:only-of-type {\n        vertical-align: middle;\n    }\n\n    .dataframe tbody tr th {\n        vertical-align: top;\n    }\n\n    .dataframe thead th {\n        text-align: right;\n    }\n</style>\n<table border=\"1\" class=\"dataframe\">\n  <thead>\n    <tr style=\"text-align: right;\">\n      <th></th>\n      <th>Price</th>\n      <th>Age</th>\n      <th>KM</th>\n      <th>Fuel</th>\n      <th>HP</th>\n      <th>MC</th>\n      <th>Color</th>\n      <th>Auto</th>\n      <th>CC</th>\n      <th>Drs</th>\n      <th>...</th>\n      <th>AC</th>\n      <th>Comp</th>\n      <th>CD</th>\n      <th>Clock</th>\n      <th>Pwin</th>\n      <th>PStr</th>\n      <th>Radio</th>\n      <th>SpM</th>\n      <th>M_Rim</th>\n      <th>Tow_Bar</th>\n    </tr>\n  </thead>\n  <tbody>\n    <tr>\n      <th>0</th>\n      <td>21000</td>\n      <td>26</td>\n      <td>31463</td>\n      <td>Petrol</td>\n      <td>195</td>\n      <td>0</td>\n      <td>Silver</td>\n      <td>0</td>\n      <td>1800</td>\n      <td>3</td>\n      <td>...</td>\n      <td>1</td>\n      <td>0</td>\n      <td>1</td>\n      <td>1</td>\n      <td>1</td>\n      <td>1</td>\n      <td>0</td>\n      <td>0</td>\n      <td>1</td>\n      <td>0</td>\n    </tr>\n    <tr>\n      <th>1</th>\n      <td>20000</td>\n      <td>23</td>\n      <td>43612</td>\n      <td>Petrol</td>\n      <td>195</td>\n      <td>0</td>\n      <td>Red</td>\n      <td>0</td>\n      <td>1800</td>\n      <td>3</td>\n      <td>...</td>\n      <td>1</td>\n      <td>1</td>\n      <td>0</td>\n      <td>1</td>\n      <td>1</td>\n      <td>1</td>\n      <td>0</td>\n      <td>1</td>\n      <td>1</td>\n      <td>0</td>\n    </tr>\n    <tr>\n      <th>2</th>\n      <td>19650</td>\n      <td>26</td>\n      <td>32191</td>\n      <td>Petrol</td>\n      <td>195</td>\n      <td>0</td>\n      <td>Red</td>\n      <td>0</td>\n      <td>1800</td>\n      <td>3</td>\n      <td>...</td>\n      <td>1</td>\n      <td>1</td>\n      <td>0</td>\n      <td>1</td>\n      <td>1</td>\n      <td>1</td>\n      <td>0</td>\n      <td>1</td>\n      <td>1</td>\n      <td>0</td>\n    </tr>\n    <tr>\n      <th>3</th>\n      <td>21550</td>\n      <td>32</td>\n      <td>23002</td>\n      <td>Petrol</td>\n      <td>195</td>\n      <td>1</td>\n      <td>Black</td>\n      <td>0</td>\n      <td>1800</td>\n      <td>3</td>\n      <td>...</td>\n      <td>1</td>\n      <td>1</td>\n      <td>1</td>\n      <td>1</td>\n      <td>1</td>\n      <td>1</td>\n      <td>0</td>\n      <td>1</td>\n      <td>1</td>\n      <td>0</td>\n    </tr>\n    <tr>\n      <th>4</th>\n      <td>22550</td>\n      <td>33</td>\n      <td>34133</td>\n      <td>Petrol</td>\n      <td>195</td>\n      <td>1</td>\n      <td>Grey</td>\n      <td>0</td>\n      <td>1800</td>\n      <td>3</td>\n      <td>...</td>\n      <td>1</td>\n      <td>1</td>\n      <td>1</td>\n      <td>1</td>\n      <td>1</td>\n      <td>1</td>\n      <td>0</td>\n      <td>1</td>\n      <td>1</td>\n      <td>0</td>\n    </tr>\n  </tbody>\n</table>\n<p>5 rows × 28 columns</p>\n</div>"
     },
     "metadata": {},
     "execution_count": 2
    }
   ],
   "source": [
    "data_OG = pd.read_excel(\"Cars_Data_full.xlsx\")\n",
    "data= data_OG.copy()\n",
    "data.head()"
   ]
  },
  {
   "source": [
    "### Data Preparation"
   ],
   "cell_type": "markdown",
   "metadata": {}
  },
  {
   "cell_type": "code",
   "execution_count": 3,
   "metadata": {},
   "outputs": [
    {
     "output_type": "execute_result",
     "data": {
      "text/plain": [
       "   Price  Age     KM   HP  MC  Auto    CC  Drs  Cyl  Grs  ...  Fuel_Diesel  \\\n",
       "0  21000   26  31463  195   0     0  1800    3    3    6  ...            0   \n",
       "1  20000   23  43612  195   0     0  1800    3    3    6  ...            0   \n",
       "2  19650   26  32191  195   0     0  1800    3    3    6  ...            0   \n",
       "3  21550   32  23002  195   1     0  1800    3    3    6  ...            0   \n",
       "4  22550   33  34133  195   1     0  1800    3    3    6  ...            0   \n",
       "\n",
       "   Fuel_Petrol  Color_Black  Color_Blue  Color_Green  Color_Grey  Color_Red  \\\n",
       "0            1            0           0            0           0          0   \n",
       "1            1            0           0            0           0          1   \n",
       "2            1            0           0            0           0          1   \n",
       "3            1            1           0            0           0          0   \n",
       "4            1            0           0            0           1          0   \n",
       "\n",
       "   Color_Silver  Color_White  Color_Yellow  \n",
       "0             1            0             0  \n",
       "1             0            0             0  \n",
       "2             0            0             0  \n",
       "3             0            0             0  \n",
       "4             0            0             0  \n",
       "\n",
       "[5 rows x 36 columns]"
      ],
      "text/html": "<div>\n<style scoped>\n    .dataframe tbody tr th:only-of-type {\n        vertical-align: middle;\n    }\n\n    .dataframe tbody tr th {\n        vertical-align: top;\n    }\n\n    .dataframe thead th {\n        text-align: right;\n    }\n</style>\n<table border=\"1\" class=\"dataframe\">\n  <thead>\n    <tr style=\"text-align: right;\">\n      <th></th>\n      <th>Price</th>\n      <th>Age</th>\n      <th>KM</th>\n      <th>HP</th>\n      <th>MC</th>\n      <th>Auto</th>\n      <th>CC</th>\n      <th>Drs</th>\n      <th>Cyl</th>\n      <th>Grs</th>\n      <th>...</th>\n      <th>Fuel_Diesel</th>\n      <th>Fuel_Petrol</th>\n      <th>Color_Black</th>\n      <th>Color_Blue</th>\n      <th>Color_Green</th>\n      <th>Color_Grey</th>\n      <th>Color_Red</th>\n      <th>Color_Silver</th>\n      <th>Color_White</th>\n      <th>Color_Yellow</th>\n    </tr>\n  </thead>\n  <tbody>\n    <tr>\n      <th>0</th>\n      <td>21000</td>\n      <td>26</td>\n      <td>31463</td>\n      <td>195</td>\n      <td>0</td>\n      <td>0</td>\n      <td>1800</td>\n      <td>3</td>\n      <td>3</td>\n      <td>6</td>\n      <td>...</td>\n      <td>0</td>\n      <td>1</td>\n      <td>0</td>\n      <td>0</td>\n      <td>0</td>\n      <td>0</td>\n      <td>0</td>\n      <td>1</td>\n      <td>0</td>\n      <td>0</td>\n    </tr>\n    <tr>\n      <th>1</th>\n      <td>20000</td>\n      <td>23</td>\n      <td>43612</td>\n      <td>195</td>\n      <td>0</td>\n      <td>0</td>\n      <td>1800</td>\n      <td>3</td>\n      <td>3</td>\n      <td>6</td>\n      <td>...</td>\n      <td>0</td>\n      <td>1</td>\n      <td>0</td>\n      <td>0</td>\n      <td>0</td>\n      <td>0</td>\n      <td>1</td>\n      <td>0</td>\n      <td>0</td>\n      <td>0</td>\n    </tr>\n    <tr>\n      <th>2</th>\n      <td>19650</td>\n      <td>26</td>\n      <td>32191</td>\n      <td>195</td>\n      <td>0</td>\n      <td>0</td>\n      <td>1800</td>\n      <td>3</td>\n      <td>3</td>\n      <td>6</td>\n      <td>...</td>\n      <td>0</td>\n      <td>1</td>\n      <td>0</td>\n      <td>0</td>\n      <td>0</td>\n      <td>0</td>\n      <td>1</td>\n      <td>0</td>\n      <td>0</td>\n      <td>0</td>\n    </tr>\n    <tr>\n      <th>3</th>\n      <td>21550</td>\n      <td>32</td>\n      <td>23002</td>\n      <td>195</td>\n      <td>1</td>\n      <td>0</td>\n      <td>1800</td>\n      <td>3</td>\n      <td>3</td>\n      <td>6</td>\n      <td>...</td>\n      <td>0</td>\n      <td>1</td>\n      <td>1</td>\n      <td>0</td>\n      <td>0</td>\n      <td>0</td>\n      <td>0</td>\n      <td>0</td>\n      <td>0</td>\n      <td>0</td>\n    </tr>\n    <tr>\n      <th>4</th>\n      <td>22550</td>\n      <td>33</td>\n      <td>34133</td>\n      <td>195</td>\n      <td>1</td>\n      <td>0</td>\n      <td>1800</td>\n      <td>3</td>\n      <td>3</td>\n      <td>6</td>\n      <td>...</td>\n      <td>0</td>\n      <td>1</td>\n      <td>0</td>\n      <td>0</td>\n      <td>0</td>\n      <td>1</td>\n      <td>0</td>\n      <td>0</td>\n      <td>0</td>\n      <td>0</td>\n    </tr>\n  </tbody>\n</table>\n<p>5 rows × 36 columns</p>\n</div>"
     },
     "metadata": {},
     "execution_count": 3
    }
   ],
   "source": [
    "# Create dummy variabless for Fuel and Color\n",
    "data = pd.get_dummies(data, columns=['Fuel'])\n",
    "data= pd.get_dummies(data, columns=['Color'])\n",
    "data.head()"
   ]
  },
  {
   "cell_type": "code",
   "execution_count": 4,
   "metadata": {},
   "outputs": [],
   "source": [
    "# Remove column Cyl and Drs because it is the same value throughout \n",
    "del data['Cyl']\n",
    "# data.head()"
   ]
  },
  {
   "cell_type": "code",
   "execution_count": 5,
   "metadata": {},
   "outputs": [
    {
     "output_type": "execute_result",
     "data": {
      "text/plain": [
       "   Price       Age        KM   HP   MC  Auto        CC       Drs  Grs  \\\n",
       "0  21000  0.276316  0.135057  1.0  0.0   0.0  0.034014  0.333333  1.0   \n",
       "1  20000  0.236842  0.187212  1.0  0.0   0.0  0.034014  0.333333  1.0   \n",
       "2  19650  0.276316  0.138182  1.0  0.0   0.0  0.034014  0.333333  1.0   \n",
       "3  21550  0.355263  0.098734  1.0  1.0   0.0  0.034014  0.333333  1.0   \n",
       "4  22550  0.368421  0.146519  1.0  1.0   0.0  0.034014  0.333333  1.0   \n",
       "\n",
       "       Wght  ...  Fuel_Diesel  Fuel_Petrol  Color_Black  Color_Blue  \\\n",
       "0  0.300813  ...          0.0          1.0          0.0         0.0   \n",
       "1  0.300813  ...          0.0          1.0          0.0         0.0   \n",
       "2  0.300813  ...          0.0          1.0          0.0         0.0   \n",
       "3  0.300813  ...          0.0          1.0          1.0         0.0   \n",
       "4  0.300813  ...          0.0          1.0          0.0         0.0   \n",
       "\n",
       "   Color_Green  Color_Grey  Color_Red  Color_Silver  Color_White  Color_Yellow  \n",
       "0          0.0         0.0        0.0           1.0          0.0           0.0  \n",
       "1          0.0         0.0        1.0           0.0          0.0           0.0  \n",
       "2          0.0         0.0        1.0           0.0          0.0           0.0  \n",
       "3          0.0         0.0        0.0           0.0          0.0           0.0  \n",
       "4          0.0         1.0        0.0           0.0          0.0           0.0  \n",
       "\n",
       "[5 rows x 35 columns]"
      ],
      "text/html": "<div>\n<style scoped>\n    .dataframe tbody tr th:only-of-type {\n        vertical-align: middle;\n    }\n\n    .dataframe tbody tr th {\n        vertical-align: top;\n    }\n\n    .dataframe thead th {\n        text-align: right;\n    }\n</style>\n<table border=\"1\" class=\"dataframe\">\n  <thead>\n    <tr style=\"text-align: right;\">\n      <th></th>\n      <th>Price</th>\n      <th>Age</th>\n      <th>KM</th>\n      <th>HP</th>\n      <th>MC</th>\n      <th>Auto</th>\n      <th>CC</th>\n      <th>Drs</th>\n      <th>Grs</th>\n      <th>Wght</th>\n      <th>...</th>\n      <th>Fuel_Diesel</th>\n      <th>Fuel_Petrol</th>\n      <th>Color_Black</th>\n      <th>Color_Blue</th>\n      <th>Color_Green</th>\n      <th>Color_Grey</th>\n      <th>Color_Red</th>\n      <th>Color_Silver</th>\n      <th>Color_White</th>\n      <th>Color_Yellow</th>\n    </tr>\n  </thead>\n  <tbody>\n    <tr>\n      <th>0</th>\n      <td>21000</td>\n      <td>0.276316</td>\n      <td>0.135057</td>\n      <td>1.0</td>\n      <td>0.0</td>\n      <td>0.0</td>\n      <td>0.034014</td>\n      <td>0.333333</td>\n      <td>1.0</td>\n      <td>0.300813</td>\n      <td>...</td>\n      <td>0.0</td>\n      <td>1.0</td>\n      <td>0.0</td>\n      <td>0.0</td>\n      <td>0.0</td>\n      <td>0.0</td>\n      <td>0.0</td>\n      <td>1.0</td>\n      <td>0.0</td>\n      <td>0.0</td>\n    </tr>\n    <tr>\n      <th>1</th>\n      <td>20000</td>\n      <td>0.236842</td>\n      <td>0.187212</td>\n      <td>1.0</td>\n      <td>0.0</td>\n      <td>0.0</td>\n      <td>0.034014</td>\n      <td>0.333333</td>\n      <td>1.0</td>\n      <td>0.300813</td>\n      <td>...</td>\n      <td>0.0</td>\n      <td>1.0</td>\n      <td>0.0</td>\n      <td>0.0</td>\n      <td>0.0</td>\n      <td>0.0</td>\n      <td>1.0</td>\n      <td>0.0</td>\n      <td>0.0</td>\n      <td>0.0</td>\n    </tr>\n    <tr>\n      <th>2</th>\n      <td>19650</td>\n      <td>0.276316</td>\n      <td>0.138182</td>\n      <td>1.0</td>\n      <td>0.0</td>\n      <td>0.0</td>\n      <td>0.034014</td>\n      <td>0.333333</td>\n      <td>1.0</td>\n      <td>0.300813</td>\n      <td>...</td>\n      <td>0.0</td>\n      <td>1.0</td>\n      <td>0.0</td>\n      <td>0.0</td>\n      <td>0.0</td>\n      <td>0.0</td>\n      <td>1.0</td>\n      <td>0.0</td>\n      <td>0.0</td>\n      <td>0.0</td>\n    </tr>\n    <tr>\n      <th>3</th>\n      <td>21550</td>\n      <td>0.355263</td>\n      <td>0.098734</td>\n      <td>1.0</td>\n      <td>1.0</td>\n      <td>0.0</td>\n      <td>0.034014</td>\n      <td>0.333333</td>\n      <td>1.0</td>\n      <td>0.300813</td>\n      <td>...</td>\n      <td>0.0</td>\n      <td>1.0</td>\n      <td>1.0</td>\n      <td>0.0</td>\n      <td>0.0</td>\n      <td>0.0</td>\n      <td>0.0</td>\n      <td>0.0</td>\n      <td>0.0</td>\n      <td>0.0</td>\n    </tr>\n    <tr>\n      <th>4</th>\n      <td>22550</td>\n      <td>0.368421</td>\n      <td>0.146519</td>\n      <td>1.0</td>\n      <td>1.0</td>\n      <td>0.0</td>\n      <td>0.034014</td>\n      <td>0.333333</td>\n      <td>1.0</td>\n      <td>0.300813</td>\n      <td>...</td>\n      <td>0.0</td>\n      <td>1.0</td>\n      <td>0.0</td>\n      <td>0.0</td>\n      <td>0.0</td>\n      <td>1.0</td>\n      <td>0.0</td>\n      <td>0.0</td>\n      <td>0.0</td>\n      <td>0.0</td>\n    </tr>\n  </tbody>\n</table>\n<p>5 rows × 35 columns</p>\n</div>"
     },
     "metadata": {},
     "execution_count": 5
    }
   ],
   "source": [
    "data = normalize(data)\n",
    "data.head()"
   ]
  },
  {
   "source": [
    "### Correlation Analysis: Feature to Feature & Feature to Target Var"
   ],
   "cell_type": "markdown",
   "metadata": {}
  },
  {
   "cell_type": "code",
   "execution_count": 6,
   "metadata": {
    "tags": []
   },
   "outputs": [
    {
     "output_type": "stream",
     "name": "stdout",
     "text": [
      "{'Abag_2', 'Fuel_Petrol', 'CD', 'Fuel_Diesel', 'PStr', 'KM', 'Pwin', 'Comp'}\n"
     ]
    }
   ],
   "source": [
    "# find the correlation between just the indep variables\n",
    "# list variables with correlation > 0.5\n",
    "indepvars = data.copy()\n",
    "del indepvars['Price']\n",
    "highcorr(indepvars, 0.5)"
   ]
  },
  {
   "cell_type": "code",
   "execution_count": 7,
   "metadata": {
    "tags": []
   },
   "outputs": [
    {
     "output_type": "stream",
     "name": "stdout",
     "text": [
      "Price           1.000000\nAge             0.874000\nAC              0.594625\nComp            0.592932\nWght            0.582299\nKM              0.563606\nCD              0.477470\nPwin            0.357218\nClock           0.343373\nHP              0.329473\nABS             0.296484\nAbag_2          0.245055\nDrs             0.180036\nColor_Grey      0.168671\nTow_Bar         0.163694\nSpM             0.161420\nCC              0.126397\nM_Rim           0.109854\nMC              0.106944\nColor_Green     0.102950\nColor_Red       0.102716\nColor_White     0.100616\nAbag_1          0.089588\nGrs             0.071676\nPStr            0.062295\nAuto            0.044148\nFuel_Petrol     0.041046\nFuel_Diesel     0.041046\nColor_Silver    0.038567\nRadio           0.038563\nColor_Black     0.033527\nMfr_G           0.031724\nColor_Yellow    0.025057\nG_P             0.013776\nColor_Blue      0.000383\nName: Price, dtype: float64\n"
     ]
    }
   ],
   "source": [
    "# check the correlation of these variables with the target variable Price \n",
    "corr_matrix = data.corr()\n",
    "corr_matrix = abs(corr_matrix)\n",
    "print(corr_matrix[\"Price\"].sort_values(ascending=False))"
   ]
  },
  {
   "cell_type": "code",
   "execution_count": 9,
   "metadata": {
    "tags": []
   },
   "outputs": [
    {
     "output_type": "stream",
     "name": "stdout",
     "text": [
      "KM              1.000000\nPrice           0.563606\nAge             0.509142\nFuel_Petrol     0.435096\nFuel_Diesel     0.435096\nHP              0.355217\nComp            0.355179\nCD              0.268766\nAC              0.255845\nABS             0.173041\nPwin            0.153698\nAbag_2          0.143854\nClock           0.122951\nColor_White     0.107711\nColor_Grey      0.106942\nCC              0.103990\nAuto            0.084443\nMC              0.078828\nTow_Bar         0.075148\nColor_Red       0.047572\nColor_Yellow    0.039785\nColor_Black     0.036256\nSpM             0.033646\nG_P             0.028035\nM_Rim           0.027732\nWght            0.027320\nColor_Green     0.017291\nColor_Blue      0.009402\nColor_Silver    0.007342\nPStr            0.005000\nAbag_1          0.003258\nRadio           0.001781\nGrs             0.000646\nMfr_G           0.000234\nName: KM, dtype: float64\n"
     ]
    }
   ],
   "source": [
    "# Pwin, Fuel_Petrol, Abag_2, Fuel_Diesel, PStr have an abs correlation < 0.5 with Price therefore REMOVE \n",
    "\n",
    "# check the correlation of KM and Comp with other features\n",
    "print('KM Correlation') \n",
    "print(corr_matrix[\"KM\"].sort_values(ascending=False))\n",
    "print('Comp Correlation') \n",
    "print(corr_matrix[\"Comp\"].sort_values(ascending=False))\n",
    "\n",
    "# KM has an abs correlation with Price > 0.5 therefore KEEP\n",
    "# Comp has an abs correlation with Price > 0.5 BUT it has high correlation with Age which is more correlated with Price \n",
    "# REMOVE Comp\n"
   ]
  },
  {
   "cell_type": "code",
   "execution_count": 8,
   "metadata": {
    "tags": []
   },
   "outputs": [
    {
     "output_type": "execute_result",
     "data": {
      "text/plain": [
       "   Price       Age        KM      Wght   AC\n",
       "0  21000  0.276316  0.135057  0.300813  1.0\n",
       "1  20000  0.236842  0.187212  0.300813  1.0\n",
       "2  19650  0.276316  0.138182  0.300813  1.0\n",
       "3  21550  0.355263  0.098734  0.300813  1.0\n",
       "4  22550  0.368421  0.146519  0.300813  1.0"
      ],
      "text/html": "<div>\n<style scoped>\n    .dataframe tbody tr th:only-of-type {\n        vertical-align: middle;\n    }\n\n    .dataframe tbody tr th {\n        vertical-align: top;\n    }\n\n    .dataframe thead th {\n        text-align: right;\n    }\n</style>\n<table border=\"1\" class=\"dataframe\">\n  <thead>\n    <tr style=\"text-align: right;\">\n      <th></th>\n      <th>Price</th>\n      <th>Age</th>\n      <th>KM</th>\n      <th>Wght</th>\n      <th>AC</th>\n    </tr>\n  </thead>\n  <tbody>\n    <tr>\n      <th>0</th>\n      <td>21000</td>\n      <td>0.276316</td>\n      <td>0.135057</td>\n      <td>0.300813</td>\n      <td>1.0</td>\n    </tr>\n    <tr>\n      <th>1</th>\n      <td>20000</td>\n      <td>0.236842</td>\n      <td>0.187212</td>\n      <td>0.300813</td>\n      <td>1.0</td>\n    </tr>\n    <tr>\n      <th>2</th>\n      <td>19650</td>\n      <td>0.276316</td>\n      <td>0.138182</td>\n      <td>0.300813</td>\n      <td>1.0</td>\n    </tr>\n    <tr>\n      <th>3</th>\n      <td>21550</td>\n      <td>0.355263</td>\n      <td>0.098734</td>\n      <td>0.300813</td>\n      <td>1.0</td>\n    </tr>\n    <tr>\n      <th>4</th>\n      <td>22550</td>\n      <td>0.368421</td>\n      <td>0.146519</td>\n      <td>0.300813</td>\n      <td>1.0</td>\n    </tr>\n  </tbody>\n</table>\n</div>"
     },
     "metadata": {},
     "execution_count": 8
    }
   ],
   "source": [
    "# delete features that are uncorrelated with Price\n",
    "# 0.5 is used as the minimum correlation\n",
    "data_new = del_lowcorr(data,0.5)\n",
    "# all unwanted features were removed except for Comp \n",
    "del data_new['Comp']\n",
    "# test performance of both models with and without KM\n",
    "# del data_new['KM']\n",
    "data_new.head()"
   ]
  },
  {
   "cell_type": "code",
   "execution_count": 14,
   "metadata": {
    "tags": []
   },
   "outputs": [],
   "source": [
    "# #verfiy no data loss\n",
    "# print('Rows - original data set',len(data_OG))\n",
    "# print('Rows - new data set',len(data_new))\n",
    "# print('Cols- original data set',len(data_OG.columns))\n",
    "# print('Cols - new data set',len(data_new.columns))"
   ]
  },
  {
   "cell_type": "code",
   "execution_count": 63,
   "metadata": {},
   "outputs": [
    {
     "output_type": "stream",
     "name": "stdout",
     "text": [
      "Intercept     0.000000e+00\nKM           1.957145e-115\ndtype: float64\n"
     ]
    }
   ],
   "source": [
    "#FINDING P_Value\n",
    "model = smf.ols('Price ~ KM', data=data_new).fit()\n",
    "print(model.pvalues)"
   ]
  },
  {
   "source": [
    "### Split the Data"
   ],
   "cell_type": "markdown",
   "metadata": {}
  },
  {
   "cell_type": "code",
   "execution_count": 55,
   "metadata": {},
   "outputs": [
    {
     "output_type": "stream",
     "name": "stdout",
     "text": [
      "Intercept                        3.545316e-28\nC(KM)[T.0.006435161136606579]    2.172779e-05\nC(KM)[T.0.017167584646624223]    3.047303e-05\nC(KM)[T.0.02146055405063128]     2.663627e-01\nC(KM)[T.0.022653999544945243]    2.125512e-01\n                                     ...     \nC(KM)[T.0.8800544348520428]      3.274115e-03\nC(KM)[T.0.9272770982961205]      2.132927e-03\nC(KM)[T.0.9348498963247889]      1.303134e-03\nC(KM)[T.0.9363696074938074]      3.274115e-03\nC(KM)[T.1.0]                     1.178399e-03\nLength: 1208, dtype: float64\n"
     ]
    }
   ],
   "source": [
    "print(model.pvalues)"
   ]
  },
  {
   "cell_type": "code",
   "execution_count": 64,
   "metadata": {},
   "outputs": [],
   "source": [
    "# separate features from target variable  \n",
    "X = data_new.iloc[:, 1:5].values\n",
    "y = data_new.iloc[:, 0].values\n",
    "# test and training sets\n",
    "X_train,X_test,y_train,y_test = train_test_split(X, y, test_size = 0.2)\n",
    "#X_train, X_test, y_train, y_test = train_test_split(X, y, test_size=0.3, random_state=0)\n",
    "\n",
    "num_rows, k = X.shape\n",
    "n = len(y_test)"
   ]
  },
  {
   "source": [
    "### Build Linear Regression Model"
   ],
   "cell_type": "markdown",
   "metadata": {}
  },
  {
   "cell_type": "code",
   "execution_count": 65,
   "metadata": {},
   "outputs": [],
   "source": [
    "# Create linear regression object\n",
    "regr = linear_model.LinearRegression()\n",
    "\n",
    "# Train the model using the training sets\n",
    "regr.fit(X_train, y_train)\n",
    "\n",
    "# Make predictions using the testing set\n",
    "pred_LR = regr.predict(X_test)\n",
    "\n",
    "# Print The coefficients\n",
    "# print('Coefficients: \\n', regr.coef_)\n",
    "# The mean squared error\n",
    "# print('Mean squared error: %.2f'\n",
    "#       % mean_squared_error(y_test, pred_LR))"
   ]
  },
  {
   "source": [
    "### Evaluate Linear Regression Model"
   ],
   "cell_type": "markdown",
   "metadata": {}
  },
  {
   "cell_type": "code",
   "execution_count": 66,
   "metadata": {},
   "outputs": [
    {
     "output_type": "stream",
     "name": "stdout",
     "text": [
      "SSE: 457279368.41\nR squared: 0.872\nAdjusted R squared : 0.870\n"
     ]
    }
   ],
   "source": [
    "# Evaluating Model\n",
    "print('SSE: %.2f'\n",
    "      % sum((y_test-pred_LR)**2))    \n",
    "R2_LR = r2_score(y_test, pred_LR)\n",
    "print('R squared: %.3f'\n",
    "      % R2_LR)\n",
    "\n",
    "AR2_LR = 1-((1-R2_LR)*(n-1)/(n-k-1))\n",
    "print('Adjusted R squared : %.3f' % AR2_LR)\n"
   ]
  },
  {
   "cell_type": "code",
   "execution_count": 67,
   "metadata": {},
   "outputs": [
    {
     "output_type": "execute_result",
     "data": {
      "text/plain": [
       "[Text(0.5, 1.0, 'Error Plot - Linear Regression'), Text(0.5, 0, 'Error')]"
      ]
     },
     "metadata": {},
     "execution_count": 67
    },
    {
     "output_type": "display_data",
     "data": {
      "text/plain": "<Figure size 432x288 with 1 Axes>",
      "image/svg+xml": "<?xml version=\"1.0\" encoding=\"utf-8\" standalone=\"no\"?>\r\n<!DOCTYPE svg PUBLIC \"-//W3C//DTD SVG 1.1//EN\"\r\n  \"http://www.w3.org/Graphics/SVG/1.1/DTD/svg11.dtd\">\r\n<!-- Created with matplotlib (https://matplotlib.org/) -->\r\n<svg height=\"277.314375pt\" version=\"1.1\" viewBox=\"0 0 411.23125 277.314375\" width=\"411.23125pt\" xmlns=\"http://www.w3.org/2000/svg\" xmlns:xlink=\"http://www.w3.org/1999/xlink\">\r\n <metadata>\r\n  <rdf:RDF xmlns:cc=\"http://creativecommons.org/ns#\" xmlns:dc=\"http://purl.org/dc/elements/1.1/\" xmlns:rdf=\"http://www.w3.org/1999/02/22-rdf-syntax-ns#\">\r\n   <cc:Work>\r\n    <dc:type rdf:resource=\"http://purl.org/dc/dcmitype/StillImage\"/>\r\n    <dc:date>2020-10-20T12:35:54.044719</dc:date>\r\n    <dc:format>image/svg+xml</dc:format>\r\n    <dc:creator>\r\n     <cc:Agent>\r\n      <dc:title>Matplotlib v3.3.0, https://matplotlib.org/</dc:title>\r\n     </cc:Agent>\r\n    </dc:creator>\r\n   </cc:Work>\r\n  </rdf:RDF>\r\n </metadata>\r\n <defs>\r\n  <style type=\"text/css\">*{stroke-linecap:butt;stroke-linejoin:round;}</style>\r\n </defs>\r\n <g id=\"figure_1\">\r\n  <g id=\"patch_1\">\r\n   <path d=\"M 0 277.314375 \r\nL 411.23125 277.314375 \r\nL 411.23125 0 \r\nL 0 0 \r\nz\r\n\" style=\"fill:none;\"/>\r\n  </g>\r\n  <g id=\"axes_1\">\r\n   <g id=\"patch_2\">\r\n    <path d=\"M 69.23125 239.758125 \r\nL 404.03125 239.758125 \r\nL 404.03125 22.318125 \r\nL 69.23125 22.318125 \r\nz\r\n\" style=\"fill:#ffffff;\"/>\r\n   </g>\r\n   <g id=\"patch_3\">\r\n    <path clip-path=\"url(#pf8b2eaab93)\" d=\"M 113.995001 239.758125 \r\nL 123.805901 239.758125 \r\nL 123.805901 235.15622 \r\nL 113.995001 235.15622 \r\nz\r\n\" style=\"fill:#1f77b4;opacity:0.4;\"/>\r\n   </g>\r\n   <g id=\"patch_4\">\r\n    <path clip-path=\"url(#pf8b2eaab93)\" d=\"M 123.805901 239.758125 \r\nL 133.616801 239.758125 \r\nL 133.616801 239.758125 \r\nL 123.805901 239.758125 \r\nz\r\n\" style=\"fill:#1f77b4;opacity:0.4;\"/>\r\n   </g>\r\n   <g id=\"patch_5\">\r\n    <path clip-path=\"url(#pf8b2eaab93)\" d=\"M 133.616801 239.758125 \r\nL 143.427701 239.758125 \r\nL 143.427701 225.952411 \r\nL 133.616801 225.952411 \r\nz\r\n\" style=\"fill:#1f77b4;opacity:0.4;\"/>\r\n   </g>\r\n   <g id=\"patch_6\">\r\n    <path clip-path=\"url(#pf8b2eaab93)\" d=\"M 143.427701 239.758125 \r\nL 153.238601 239.758125 \r\nL 153.238601 225.952411 \r\nL 143.427701 225.952411 \r\nz\r\n\" style=\"fill:#1f77b4;opacity:0.4;\"/>\r\n   </g>\r\n   <g id=\"patch_7\">\r\n    <path clip-path=\"url(#pf8b2eaab93)\" d=\"M 153.238601 239.758125 \r\nL 163.0495 239.758125 \r\nL 163.0495 207.544792 \r\nL 153.238601 207.544792 \r\nz\r\n\" style=\"fill:#1f77b4;opacity:0.4;\"/>\r\n   </g>\r\n   <g id=\"patch_8\">\r\n    <path clip-path=\"url(#pf8b2eaab93)\" d=\"M 163.0495 239.758125 \r\nL 172.8604 239.758125 \r\nL 172.8604 152.321935 \r\nL 163.0495 152.321935 \r\nz\r\n\" style=\"fill:#1f77b4;opacity:0.4;\"/>\r\n   </g>\r\n   <g id=\"patch_9\">\r\n    <path clip-path=\"url(#pf8b2eaab93)\" d=\"M 172.8604 239.758125 \r\nL 182.6713 239.758125 \r\nL 182.6713 156.923839 \r\nL 172.8604 156.923839 \r\nz\r\n\" style=\"fill:#1f77b4;opacity:0.4;\"/>\r\n   </g>\r\n   <g id=\"patch_10\">\r\n    <path clip-path=\"url(#pf8b2eaab93)\" d=\"M 182.6713 239.758125 \r\nL 192.4822 239.758125 \r\nL 192.4822 55.681935 \r\nL 182.6713 55.681935 \r\nz\r\n\" style=\"fill:#1f77b4;opacity:0.4;\"/>\r\n   </g>\r\n   <g id=\"patch_11\">\r\n    <path clip-path=\"url(#pf8b2eaab93)\" d=\"M 192.4822 239.758125 \r\nL 202.2931 239.758125 \r\nL 202.2931 32.672411 \r\nL 192.4822 32.672411 \r\nz\r\n\" style=\"fill:#1f77b4;opacity:0.4;\"/>\r\n   </g>\r\n   <g id=\"patch_12\">\r\n    <path clip-path=\"url(#pf8b2eaab93)\" d=\"M 202.2931 239.758125 \r\nL 212.104 239.758125 \r\nL 212.104 51.08003 \r\nL 202.2931 51.08003 \r\nz\r\n\" style=\"fill:#1f77b4;opacity:0.4;\"/>\r\n   </g>\r\n   <g id=\"patch_13\">\r\n    <path clip-path=\"url(#pf8b2eaab93)\" d=\"M 212.104 239.758125 \r\nL 221.9149 239.758125 \r\nL 221.9149 78.691458 \r\nL 212.104 78.691458 \r\nz\r\n\" style=\"fill:#1f77b4;opacity:0.4;\"/>\r\n   </g>\r\n   <g id=\"patch_14\">\r\n    <path clip-path=\"url(#pf8b2eaab93)\" d=\"M 221.9149 239.758125 \r\nL 231.7258 239.758125 \r\nL 231.7258 161.525744 \r\nL 221.9149 161.525744 \r\nz\r\n\" style=\"fill:#1f77b4;opacity:0.4;\"/>\r\n   </g>\r\n   <g id=\"patch_15\">\r\n    <path clip-path=\"url(#pf8b2eaab93)\" d=\"M 231.7258 239.758125 \r\nL 241.5367 239.758125 \r\nL 241.5367 138.51622 \r\nL 231.7258 138.51622 \r\nz\r\n\" style=\"fill:#1f77b4;opacity:0.4;\"/>\r\n   </g>\r\n   <g id=\"patch_16\">\r\n    <path clip-path=\"url(#pf8b2eaab93)\" d=\"M 241.5367 239.758125 \r\nL 251.3476 239.758125 \r\nL 251.3476 184.535268 \r\nL 241.5367 184.535268 \r\nz\r\n\" style=\"fill:#1f77b4;opacity:0.4;\"/>\r\n   </g>\r\n   <g id=\"patch_17\">\r\n    <path clip-path=\"url(#pf8b2eaab93)\" d=\"M 251.3476 239.758125 \r\nL 261.1585 239.758125 \r\nL 261.1585 216.748601 \r\nL 251.3476 216.748601 \r\nz\r\n\" style=\"fill:#1f77b4;opacity:0.4;\"/>\r\n   </g>\r\n   <g id=\"patch_18\">\r\n    <path clip-path=\"url(#pf8b2eaab93)\" d=\"M 261.1585 239.758125 \r\nL 270.9694 239.758125 \r\nL 270.9694 230.554315 \r\nL 261.1585 230.554315 \r\nz\r\n\" style=\"fill:#1f77b4;opacity:0.4;\"/>\r\n   </g>\r\n   <g id=\"patch_19\">\r\n    <path clip-path=\"url(#pf8b2eaab93)\" d=\"M 270.9694 239.758125 \r\nL 280.7803 239.758125 \r\nL 280.7803 239.758125 \r\nL 270.9694 239.758125 \r\nz\r\n\" style=\"fill:#1f77b4;opacity:0.4;\"/>\r\n   </g>\r\n   <g id=\"patch_20\">\r\n    <path clip-path=\"url(#pf8b2eaab93)\" d=\"M 280.7803 239.758125 \r\nL 290.5912 239.758125 \r\nL 290.5912 239.758125 \r\nL 280.7803 239.758125 \r\nz\r\n\" style=\"fill:#1f77b4;opacity:0.4;\"/>\r\n   </g>\r\n   <g id=\"patch_21\">\r\n    <path clip-path=\"url(#pf8b2eaab93)\" d=\"M 290.5912 239.758125 \r\nL 300.4021 239.758125 \r\nL 300.4021 239.758125 \r\nL 290.5912 239.758125 \r\nz\r\n\" style=\"fill:#1f77b4;opacity:0.4;\"/>\r\n   </g>\r\n   <g id=\"patch_22\">\r\n    <path clip-path=\"url(#pf8b2eaab93)\" d=\"M 300.4021 239.758125 \r\nL 310.213 239.758125 \r\nL 310.213 239.758125 \r\nL 300.4021 239.758125 \r\nz\r\n\" style=\"fill:#1f77b4;opacity:0.4;\"/>\r\n   </g>\r\n   <g id=\"patch_23\">\r\n    <path clip-path=\"url(#pf8b2eaab93)\" d=\"M 310.213 239.758125 \r\nL 320.023899 239.758125 \r\nL 320.023899 235.15622 \r\nL 310.213 235.15622 \r\nz\r\n\" style=\"fill:#1f77b4;opacity:0.4;\"/>\r\n   </g>\r\n   <g id=\"patch_24\">\r\n    <path clip-path=\"url(#pf8b2eaab93)\" d=\"M 320.023899 239.758125 \r\nL 329.834799 239.758125 \r\nL 329.834799 239.758125 \r\nL 320.023899 239.758125 \r\nz\r\n\" style=\"fill:#1f77b4;opacity:0.4;\"/>\r\n   </g>\r\n   <g id=\"patch_25\">\r\n    <path clip-path=\"url(#pf8b2eaab93)\" d=\"M 329.834799 239.758125 \r\nL 339.645699 239.758125 \r\nL 339.645699 235.15622 \r\nL 329.834799 235.15622 \r\nz\r\n\" style=\"fill:#1f77b4;opacity:0.4;\"/>\r\n   </g>\r\n   <g id=\"patch_26\">\r\n    <path clip-path=\"url(#pf8b2eaab93)\" d=\"M 339.645699 239.758125 \r\nL 349.456599 239.758125 \r\nL 349.456599 235.15622 \r\nL 339.645699 235.15622 \r\nz\r\n\" style=\"fill:#1f77b4;opacity:0.4;\"/>\r\n   </g>\r\n   <g id=\"patch_27\">\r\n    <path clip-path=\"url(#pf8b2eaab93)\" d=\"M 349.456599 239.758125 \r\nL 359.267499 239.758125 \r\nL 359.267499 235.15622 \r\nL 349.456599 235.15622 \r\nz\r\n\" style=\"fill:#1f77b4;opacity:0.4;\"/>\r\n   </g>\r\n   <g id=\"matplotlib.axis_1\">\r\n    <g id=\"xtick_1\">\r\n     <g id=\"line2d_1\">\r\n      <defs>\r\n       <path d=\"M 0 0 \r\nL 0 3.5 \r\n\" id=\"m2522625be9\" style=\"stroke:#000000;stroke-width:0.8;\"/>\r\n      </defs>\r\n      <g>\r\n       <use style=\"stroke:#000000;stroke-width:0.8;\" x=\"107.426616\" xlink:href=\"#m2522625be9\" y=\"239.758125\"/>\r\n      </g>\r\n     </g>\r\n     <g id=\"text_1\">\r\n      <!-- −4000 -->\r\n      <g transform=\"translate(90.511772 254.356562)scale(0.1 -0.1)\">\r\n       <defs>\r\n        <path d=\"M 10.59375 35.5 \r\nL 73.1875 35.5 \r\nL 73.1875 27.203125 \r\nL 10.59375 27.203125 \r\nz\r\n\" id=\"DejaVuSans-8722\"/>\r\n        <path d=\"M 37.796875 64.3125 \r\nL 12.890625 25.390625 \r\nL 37.796875 25.390625 \r\nz\r\nM 35.203125 72.90625 \r\nL 47.609375 72.90625 \r\nL 47.609375 25.390625 \r\nL 58.015625 25.390625 \r\nL 58.015625 17.1875 \r\nL 47.609375 17.1875 \r\nL 47.609375 0 \r\nL 37.796875 0 \r\nL 37.796875 17.1875 \r\nL 4.890625 17.1875 \r\nL 4.890625 26.703125 \r\nz\r\n\" id=\"DejaVuSans-52\"/>\r\n        <path d=\"M 31.78125 66.40625 \r\nQ 24.171875 66.40625 20.328125 58.90625 \r\nQ 16.5 51.421875 16.5 36.375 \r\nQ 16.5 21.390625 20.328125 13.890625 \r\nQ 24.171875 6.390625 31.78125 6.390625 \r\nQ 39.453125 6.390625 43.28125 13.890625 \r\nQ 47.125 21.390625 47.125 36.375 \r\nQ 47.125 51.421875 43.28125 58.90625 \r\nQ 39.453125 66.40625 31.78125 66.40625 \r\nz\r\nM 31.78125 74.21875 \r\nQ 44.046875 74.21875 50.515625 64.515625 \r\nQ 56.984375 54.828125 56.984375 36.375 \r\nQ 56.984375 17.96875 50.515625 8.265625 \r\nQ 44.046875 -1.421875 31.78125 -1.421875 \r\nQ 19.53125 -1.421875 13.0625 8.265625 \r\nQ 6.59375 17.96875 6.59375 36.375 \r\nQ 6.59375 54.828125 13.0625 64.515625 \r\nQ 19.53125 74.21875 31.78125 74.21875 \r\nz\r\n\" id=\"DejaVuSans-48\"/>\r\n       </defs>\r\n       <use xlink:href=\"#DejaVuSans-8722\"/>\r\n       <use x=\"83.789062\" xlink:href=\"#DejaVuSans-52\"/>\r\n       <use x=\"147.412109\" xlink:href=\"#DejaVuSans-48\"/>\r\n       <use x=\"211.035156\" xlink:href=\"#DejaVuSans-48\"/>\r\n       <use x=\"274.658203\" xlink:href=\"#DejaVuSans-48\"/>\r\n      </g>\r\n     </g>\r\n    </g>\r\n    <g id=\"xtick_2\">\r\n     <g id=\"line2d_2\">\r\n      <g>\r\n       <use style=\"stroke:#000000;stroke-width:0.8;\" x=\"154.512295\" xlink:href=\"#m2522625be9\" y=\"239.758125\"/>\r\n      </g>\r\n     </g>\r\n     <g id=\"text_2\">\r\n      <!-- −2000 -->\r\n      <g transform=\"translate(137.597452 254.356562)scale(0.1 -0.1)\">\r\n       <defs>\r\n        <path d=\"M 19.1875 8.296875 \r\nL 53.609375 8.296875 \r\nL 53.609375 0 \r\nL 7.328125 0 \r\nL 7.328125 8.296875 \r\nQ 12.9375 14.109375 22.625 23.890625 \r\nQ 32.328125 33.6875 34.8125 36.53125 \r\nQ 39.546875 41.84375 41.421875 45.53125 \r\nQ 43.3125 49.21875 43.3125 52.78125 \r\nQ 43.3125 58.59375 39.234375 62.25 \r\nQ 35.15625 65.921875 28.609375 65.921875 \r\nQ 23.96875 65.921875 18.8125 64.3125 \r\nQ 13.671875 62.703125 7.8125 59.421875 \r\nL 7.8125 69.390625 \r\nQ 13.765625 71.78125 18.9375 73 \r\nQ 24.125 74.21875 28.421875 74.21875 \r\nQ 39.75 74.21875 46.484375 68.546875 \r\nQ 53.21875 62.890625 53.21875 53.421875 \r\nQ 53.21875 48.921875 51.53125 44.890625 \r\nQ 49.859375 40.875 45.40625 35.40625 \r\nQ 44.1875 33.984375 37.640625 27.21875 \r\nQ 31.109375 20.453125 19.1875 8.296875 \r\nz\r\n\" id=\"DejaVuSans-50\"/>\r\n       </defs>\r\n       <use xlink:href=\"#DejaVuSans-8722\"/>\r\n       <use x=\"83.789062\" xlink:href=\"#DejaVuSans-50\"/>\r\n       <use x=\"147.412109\" xlink:href=\"#DejaVuSans-48\"/>\r\n       <use x=\"211.035156\" xlink:href=\"#DejaVuSans-48\"/>\r\n       <use x=\"274.658203\" xlink:href=\"#DejaVuSans-48\"/>\r\n      </g>\r\n     </g>\r\n    </g>\r\n    <g id=\"xtick_3\">\r\n     <g id=\"line2d_3\">\r\n      <g>\r\n       <use style=\"stroke:#000000;stroke-width:0.8;\" x=\"201.597974\" xlink:href=\"#m2522625be9\" y=\"239.758125\"/>\r\n      </g>\r\n     </g>\r\n     <g id=\"text_3\">\r\n      <!-- 0 -->\r\n      <g transform=\"translate(198.416724 254.356562)scale(0.1 -0.1)\">\r\n       <use xlink:href=\"#DejaVuSans-48\"/>\r\n      </g>\r\n     </g>\r\n    </g>\r\n    <g id=\"xtick_4\">\r\n     <g id=\"line2d_4\">\r\n      <g>\r\n       <use style=\"stroke:#000000;stroke-width:0.8;\" x=\"248.683654\" xlink:href=\"#m2522625be9\" y=\"239.758125\"/>\r\n      </g>\r\n     </g>\r\n     <g id=\"text_4\">\r\n      <!-- 2000 -->\r\n      <g transform=\"translate(235.958654 254.356562)scale(0.1 -0.1)\">\r\n       <use xlink:href=\"#DejaVuSans-50\"/>\r\n       <use x=\"63.623047\" xlink:href=\"#DejaVuSans-48\"/>\r\n       <use x=\"127.246094\" xlink:href=\"#DejaVuSans-48\"/>\r\n       <use x=\"190.869141\" xlink:href=\"#DejaVuSans-48\"/>\r\n      </g>\r\n     </g>\r\n    </g>\r\n    <g id=\"xtick_5\">\r\n     <g id=\"line2d_5\">\r\n      <g>\r\n       <use style=\"stroke:#000000;stroke-width:0.8;\" x=\"295.769333\" xlink:href=\"#m2522625be9\" y=\"239.758125\"/>\r\n      </g>\r\n     </g>\r\n     <g id=\"text_5\">\r\n      <!-- 4000 -->\r\n      <g transform=\"translate(283.044333 254.356562)scale(0.1 -0.1)\">\r\n       <use xlink:href=\"#DejaVuSans-52\"/>\r\n       <use x=\"63.623047\" xlink:href=\"#DejaVuSans-48\"/>\r\n       <use x=\"127.246094\" xlink:href=\"#DejaVuSans-48\"/>\r\n       <use x=\"190.869141\" xlink:href=\"#DejaVuSans-48\"/>\r\n      </g>\r\n     </g>\r\n    </g>\r\n    <g id=\"xtick_6\">\r\n     <g id=\"line2d_6\">\r\n      <g>\r\n       <use style=\"stroke:#000000;stroke-width:0.8;\" x=\"342.855012\" xlink:href=\"#m2522625be9\" y=\"239.758125\"/>\r\n      </g>\r\n     </g>\r\n     <g id=\"text_6\">\r\n      <!-- 6000 -->\r\n      <g transform=\"translate(330.130012 254.356562)scale(0.1 -0.1)\">\r\n       <defs>\r\n        <path d=\"M 33.015625 40.375 \r\nQ 26.375 40.375 22.484375 35.828125 \r\nQ 18.609375 31.296875 18.609375 23.390625 \r\nQ 18.609375 15.53125 22.484375 10.953125 \r\nQ 26.375 6.390625 33.015625 6.390625 \r\nQ 39.65625 6.390625 43.53125 10.953125 \r\nQ 47.40625 15.53125 47.40625 23.390625 \r\nQ 47.40625 31.296875 43.53125 35.828125 \r\nQ 39.65625 40.375 33.015625 40.375 \r\nz\r\nM 52.59375 71.296875 \r\nL 52.59375 62.3125 \r\nQ 48.875 64.0625 45.09375 64.984375 \r\nQ 41.3125 65.921875 37.59375 65.921875 \r\nQ 27.828125 65.921875 22.671875 59.328125 \r\nQ 17.53125 52.734375 16.796875 39.40625 \r\nQ 19.671875 43.65625 24.015625 45.921875 \r\nQ 28.375 48.1875 33.59375 48.1875 \r\nQ 44.578125 48.1875 50.953125 41.515625 \r\nQ 57.328125 34.859375 57.328125 23.390625 \r\nQ 57.328125 12.15625 50.6875 5.359375 \r\nQ 44.046875 -1.421875 33.015625 -1.421875 \r\nQ 20.359375 -1.421875 13.671875 8.265625 \r\nQ 6.984375 17.96875 6.984375 36.375 \r\nQ 6.984375 53.65625 15.1875 63.9375 \r\nQ 23.390625 74.21875 37.203125 74.21875 \r\nQ 40.921875 74.21875 44.703125 73.484375 \r\nQ 48.484375 72.75 52.59375 71.296875 \r\nz\r\n\" id=\"DejaVuSans-54\"/>\r\n       </defs>\r\n       <use xlink:href=\"#DejaVuSans-54\"/>\r\n       <use x=\"63.623047\" xlink:href=\"#DejaVuSans-48\"/>\r\n       <use x=\"127.246094\" xlink:href=\"#DejaVuSans-48\"/>\r\n       <use x=\"190.869141\" xlink:href=\"#DejaVuSans-48\"/>\r\n      </g>\r\n     </g>\r\n    </g>\r\n    <g id=\"xtick_7\">\r\n     <g id=\"line2d_7\">\r\n      <g>\r\n       <use style=\"stroke:#000000;stroke-width:0.8;\" x=\"389.940691\" xlink:href=\"#m2522625be9\" y=\"239.758125\"/>\r\n      </g>\r\n     </g>\r\n     <g id=\"text_7\">\r\n      <!-- 8000 -->\r\n      <g transform=\"translate(377.215691 254.356562)scale(0.1 -0.1)\">\r\n       <defs>\r\n        <path d=\"M 31.78125 34.625 \r\nQ 24.75 34.625 20.71875 30.859375 \r\nQ 16.703125 27.09375 16.703125 20.515625 \r\nQ 16.703125 13.921875 20.71875 10.15625 \r\nQ 24.75 6.390625 31.78125 6.390625 \r\nQ 38.8125 6.390625 42.859375 10.171875 \r\nQ 46.921875 13.96875 46.921875 20.515625 \r\nQ 46.921875 27.09375 42.890625 30.859375 \r\nQ 38.875 34.625 31.78125 34.625 \r\nz\r\nM 21.921875 38.8125 \r\nQ 15.578125 40.375 12.03125 44.71875 \r\nQ 8.5 49.078125 8.5 55.328125 \r\nQ 8.5 64.0625 14.71875 69.140625 \r\nQ 20.953125 74.21875 31.78125 74.21875 \r\nQ 42.671875 74.21875 48.875 69.140625 \r\nQ 55.078125 64.0625 55.078125 55.328125 \r\nQ 55.078125 49.078125 51.53125 44.71875 \r\nQ 48 40.375 41.703125 38.8125 \r\nQ 48.828125 37.15625 52.796875 32.3125 \r\nQ 56.78125 27.484375 56.78125 20.515625 \r\nQ 56.78125 9.90625 50.3125 4.234375 \r\nQ 43.84375 -1.421875 31.78125 -1.421875 \r\nQ 19.734375 -1.421875 13.25 4.234375 \r\nQ 6.78125 9.90625 6.78125 20.515625 \r\nQ 6.78125 27.484375 10.78125 32.3125 \r\nQ 14.796875 37.15625 21.921875 38.8125 \r\nz\r\nM 18.3125 54.390625 \r\nQ 18.3125 48.734375 21.84375 45.5625 \r\nQ 25.390625 42.390625 31.78125 42.390625 \r\nQ 38.140625 42.390625 41.71875 45.5625 \r\nQ 45.3125 48.734375 45.3125 54.390625 \r\nQ 45.3125 60.0625 41.71875 63.234375 \r\nQ 38.140625 66.40625 31.78125 66.40625 \r\nQ 25.390625 66.40625 21.84375 63.234375 \r\nQ 18.3125 60.0625 18.3125 54.390625 \r\nz\r\n\" id=\"DejaVuSans-56\"/>\r\n       </defs>\r\n       <use xlink:href=\"#DejaVuSans-56\"/>\r\n       <use x=\"63.623047\" xlink:href=\"#DejaVuSans-48\"/>\r\n       <use x=\"127.246094\" xlink:href=\"#DejaVuSans-48\"/>\r\n       <use x=\"190.869141\" xlink:href=\"#DejaVuSans-48\"/>\r\n      </g>\r\n     </g>\r\n    </g>\r\n    <g id=\"text_8\">\r\n     <!-- Error -->\r\n     <g transform=\"translate(224.446094 268.034687)scale(0.1 -0.1)\">\r\n      <defs>\r\n       <path d=\"M 9.8125 72.90625 \r\nL 55.90625 72.90625 \r\nL 55.90625 64.59375 \r\nL 19.671875 64.59375 \r\nL 19.671875 43.015625 \r\nL 54.390625 43.015625 \r\nL 54.390625 34.71875 \r\nL 19.671875 34.71875 \r\nL 19.671875 8.296875 \r\nL 56.78125 8.296875 \r\nL 56.78125 0 \r\nL 9.8125 0 \r\nz\r\n\" id=\"DejaVuSans-69\"/>\r\n       <path d=\"M 41.109375 46.296875 \r\nQ 39.59375 47.171875 37.8125 47.578125 \r\nQ 36.03125 48 33.890625 48 \r\nQ 26.265625 48 22.1875 43.046875 \r\nQ 18.109375 38.09375 18.109375 28.8125 \r\nL 18.109375 0 \r\nL 9.078125 0 \r\nL 9.078125 54.6875 \r\nL 18.109375 54.6875 \r\nL 18.109375 46.1875 \r\nQ 20.953125 51.171875 25.484375 53.578125 \r\nQ 30.03125 56 36.53125 56 \r\nQ 37.453125 56 38.578125 55.875 \r\nQ 39.703125 55.765625 41.0625 55.515625 \r\nz\r\n\" id=\"DejaVuSans-114\"/>\r\n       <path d=\"M 30.609375 48.390625 \r\nQ 23.390625 48.390625 19.1875 42.75 \r\nQ 14.984375 37.109375 14.984375 27.296875 \r\nQ 14.984375 17.484375 19.15625 11.84375 \r\nQ 23.34375 6.203125 30.609375 6.203125 \r\nQ 37.796875 6.203125 41.984375 11.859375 \r\nQ 46.1875 17.53125 46.1875 27.296875 \r\nQ 46.1875 37.015625 41.984375 42.703125 \r\nQ 37.796875 48.390625 30.609375 48.390625 \r\nz\r\nM 30.609375 56 \r\nQ 42.328125 56 49.015625 48.375 \r\nQ 55.71875 40.765625 55.71875 27.296875 \r\nQ 55.71875 13.875 49.015625 6.21875 \r\nQ 42.328125 -1.421875 30.609375 -1.421875 \r\nQ 18.84375 -1.421875 12.171875 6.21875 \r\nQ 5.515625 13.875 5.515625 27.296875 \r\nQ 5.515625 40.765625 12.171875 48.375 \r\nQ 18.84375 56 30.609375 56 \r\nz\r\n\" id=\"DejaVuSans-111\"/>\r\n      </defs>\r\n      <use xlink:href=\"#DejaVuSans-69\"/>\r\n      <use x=\"63.183594\" xlink:href=\"#DejaVuSans-114\"/>\r\n      <use x=\"102.546875\" xlink:href=\"#DejaVuSans-114\"/>\r\n      <use x=\"141.410156\" xlink:href=\"#DejaVuSans-111\"/>\r\n      <use x=\"202.591797\" xlink:href=\"#DejaVuSans-114\"/>\r\n     </g>\r\n    </g>\r\n   </g>\r\n   <g id=\"matplotlib.axis_2\">\r\n    <g id=\"ytick_1\">\r\n     <g id=\"line2d_8\">\r\n      <defs>\r\n       <path d=\"M 0 0 \r\nL -3.5 0 \r\n\" id=\"mf35709148b\" style=\"stroke:#000000;stroke-width:0.8;\"/>\r\n      </defs>\r\n      <g>\r\n       <use style=\"stroke:#000000;stroke-width:0.8;\" x=\"69.23125\" xlink:href=\"#mf35709148b\" y=\"239.758125\"/>\r\n      </g>\r\n     </g>\r\n     <g id=\"text_9\">\r\n      <!-- 0.00000 -->\r\n      <g transform=\"translate(20.878125 243.557344)scale(0.1 -0.1)\">\r\n       <defs>\r\n        <path d=\"M 10.6875 12.40625 \r\nL 21 12.40625 \r\nL 21 0 \r\nL 10.6875 0 \r\nz\r\n\" id=\"DejaVuSans-46\"/>\r\n       </defs>\r\n       <use xlink:href=\"#DejaVuSans-48\"/>\r\n       <use x=\"63.623047\" xlink:href=\"#DejaVuSans-46\"/>\r\n       <use x=\"95.410156\" xlink:href=\"#DejaVuSans-48\"/>\r\n       <use x=\"159.033203\" xlink:href=\"#DejaVuSans-48\"/>\r\n       <use x=\"222.65625\" xlink:href=\"#DejaVuSans-48\"/>\r\n       <use x=\"286.279297\" xlink:href=\"#DejaVuSans-48\"/>\r\n       <use x=\"349.902344\" xlink:href=\"#DejaVuSans-48\"/>\r\n      </g>\r\n     </g>\r\n    </g>\r\n    <g id=\"ytick_2\">\r\n     <g id=\"line2d_9\">\r\n      <g>\r\n       <use style=\"stroke:#000000;stroke-width:0.8;\" x=\"69.23125\" xlink:href=\"#mf35709148b\" y=\"213.485214\"/>\r\n      </g>\r\n     </g>\r\n     <g id=\"text_10\">\r\n      <!-- 0.00005 -->\r\n      <g transform=\"translate(20.878125 217.284433)scale(0.1 -0.1)\">\r\n       <defs>\r\n        <path d=\"M 10.796875 72.90625 \r\nL 49.515625 72.90625 \r\nL 49.515625 64.59375 \r\nL 19.828125 64.59375 \r\nL 19.828125 46.734375 \r\nQ 21.96875 47.46875 24.109375 47.828125 \r\nQ 26.265625 48.1875 28.421875 48.1875 \r\nQ 40.625 48.1875 47.75 41.5 \r\nQ 54.890625 34.8125 54.890625 23.390625 \r\nQ 54.890625 11.625 47.5625 5.09375 \r\nQ 40.234375 -1.421875 26.90625 -1.421875 \r\nQ 22.3125 -1.421875 17.546875 -0.640625 \r\nQ 12.796875 0.140625 7.71875 1.703125 \r\nL 7.71875 11.625 \r\nQ 12.109375 9.234375 16.796875 8.0625 \r\nQ 21.484375 6.890625 26.703125 6.890625 \r\nQ 35.15625 6.890625 40.078125 11.328125 \r\nQ 45.015625 15.765625 45.015625 23.390625 \r\nQ 45.015625 31 40.078125 35.4375 \r\nQ 35.15625 39.890625 26.703125 39.890625 \r\nQ 22.75 39.890625 18.8125 39.015625 \r\nQ 14.890625 38.140625 10.796875 36.28125 \r\nz\r\n\" id=\"DejaVuSans-53\"/>\r\n       </defs>\r\n       <use xlink:href=\"#DejaVuSans-48\"/>\r\n       <use x=\"63.623047\" xlink:href=\"#DejaVuSans-46\"/>\r\n       <use x=\"95.410156\" xlink:href=\"#DejaVuSans-48\"/>\r\n       <use x=\"159.033203\" xlink:href=\"#DejaVuSans-48\"/>\r\n       <use x=\"222.65625\" xlink:href=\"#DejaVuSans-48\"/>\r\n       <use x=\"286.279297\" xlink:href=\"#DejaVuSans-48\"/>\r\n       <use x=\"349.902344\" xlink:href=\"#DejaVuSans-53\"/>\r\n      </g>\r\n     </g>\r\n    </g>\r\n    <g id=\"ytick_3\">\r\n     <g id=\"line2d_10\">\r\n      <g>\r\n       <use style=\"stroke:#000000;stroke-width:0.8;\" x=\"69.23125\" xlink:href=\"#mf35709148b\" y=\"187.212303\"/>\r\n      </g>\r\n     </g>\r\n     <g id=\"text_11\">\r\n      <!-- 0.00010 -->\r\n      <g transform=\"translate(20.878125 191.011521)scale(0.1 -0.1)\">\r\n       <defs>\r\n        <path d=\"M 12.40625 8.296875 \r\nL 28.515625 8.296875 \r\nL 28.515625 63.921875 \r\nL 10.984375 60.40625 \r\nL 10.984375 69.390625 \r\nL 28.421875 72.90625 \r\nL 38.28125 72.90625 \r\nL 38.28125 8.296875 \r\nL 54.390625 8.296875 \r\nL 54.390625 0 \r\nL 12.40625 0 \r\nz\r\n\" id=\"DejaVuSans-49\"/>\r\n       </defs>\r\n       <use xlink:href=\"#DejaVuSans-48\"/>\r\n       <use x=\"63.623047\" xlink:href=\"#DejaVuSans-46\"/>\r\n       <use x=\"95.410156\" xlink:href=\"#DejaVuSans-48\"/>\r\n       <use x=\"159.033203\" xlink:href=\"#DejaVuSans-48\"/>\r\n       <use x=\"222.65625\" xlink:href=\"#DejaVuSans-48\"/>\r\n       <use x=\"286.279297\" xlink:href=\"#DejaVuSans-49\"/>\r\n       <use x=\"349.902344\" xlink:href=\"#DejaVuSans-48\"/>\r\n      </g>\r\n     </g>\r\n    </g>\r\n    <g id=\"ytick_4\">\r\n     <g id=\"line2d_11\">\r\n      <g>\r\n       <use style=\"stroke:#000000;stroke-width:0.8;\" x=\"69.23125\" xlink:href=\"#mf35709148b\" y=\"160.939392\"/>\r\n      </g>\r\n     </g>\r\n     <g id=\"text_12\">\r\n      <!-- 0.00015 -->\r\n      <g transform=\"translate(20.878125 164.73861)scale(0.1 -0.1)\">\r\n       <use xlink:href=\"#DejaVuSans-48\"/>\r\n       <use x=\"63.623047\" xlink:href=\"#DejaVuSans-46\"/>\r\n       <use x=\"95.410156\" xlink:href=\"#DejaVuSans-48\"/>\r\n       <use x=\"159.033203\" xlink:href=\"#DejaVuSans-48\"/>\r\n       <use x=\"222.65625\" xlink:href=\"#DejaVuSans-48\"/>\r\n       <use x=\"286.279297\" xlink:href=\"#DejaVuSans-49\"/>\r\n       <use x=\"349.902344\" xlink:href=\"#DejaVuSans-53\"/>\r\n      </g>\r\n     </g>\r\n    </g>\r\n    <g id=\"ytick_5\">\r\n     <g id=\"line2d_12\">\r\n      <g>\r\n       <use style=\"stroke:#000000;stroke-width:0.8;\" x=\"69.23125\" xlink:href=\"#mf35709148b\" y=\"134.66648\"/>\r\n      </g>\r\n     </g>\r\n     <g id=\"text_13\">\r\n      <!-- 0.00020 -->\r\n      <g transform=\"translate(20.878125 138.465699)scale(0.1 -0.1)\">\r\n       <use xlink:href=\"#DejaVuSans-48\"/>\r\n       <use x=\"63.623047\" xlink:href=\"#DejaVuSans-46\"/>\r\n       <use x=\"95.410156\" xlink:href=\"#DejaVuSans-48\"/>\r\n       <use x=\"159.033203\" xlink:href=\"#DejaVuSans-48\"/>\r\n       <use x=\"222.65625\" xlink:href=\"#DejaVuSans-48\"/>\r\n       <use x=\"286.279297\" xlink:href=\"#DejaVuSans-50\"/>\r\n       <use x=\"349.902344\" xlink:href=\"#DejaVuSans-48\"/>\r\n      </g>\r\n     </g>\r\n    </g>\r\n    <g id=\"ytick_6\">\r\n     <g id=\"line2d_13\">\r\n      <g>\r\n       <use style=\"stroke:#000000;stroke-width:0.8;\" x=\"69.23125\" xlink:href=\"#mf35709148b\" y=\"108.393569\"/>\r\n      </g>\r\n     </g>\r\n     <g id=\"text_14\">\r\n      <!-- 0.00025 -->\r\n      <g transform=\"translate(20.878125 112.192788)scale(0.1 -0.1)\">\r\n       <use xlink:href=\"#DejaVuSans-48\"/>\r\n       <use x=\"63.623047\" xlink:href=\"#DejaVuSans-46\"/>\r\n       <use x=\"95.410156\" xlink:href=\"#DejaVuSans-48\"/>\r\n       <use x=\"159.033203\" xlink:href=\"#DejaVuSans-48\"/>\r\n       <use x=\"222.65625\" xlink:href=\"#DejaVuSans-48\"/>\r\n       <use x=\"286.279297\" xlink:href=\"#DejaVuSans-50\"/>\r\n       <use x=\"349.902344\" xlink:href=\"#DejaVuSans-53\"/>\r\n      </g>\r\n     </g>\r\n    </g>\r\n    <g id=\"ytick_7\">\r\n     <g id=\"line2d_14\">\r\n      <g>\r\n       <use style=\"stroke:#000000;stroke-width:0.8;\" x=\"69.23125\" xlink:href=\"#mf35709148b\" y=\"82.120658\"/>\r\n      </g>\r\n     </g>\r\n     <g id=\"text_15\">\r\n      <!-- 0.00030 -->\r\n      <g transform=\"translate(20.878125 85.919877)scale(0.1 -0.1)\">\r\n       <defs>\r\n        <path d=\"M 40.578125 39.3125 \r\nQ 47.65625 37.796875 51.625 33 \r\nQ 55.609375 28.21875 55.609375 21.1875 \r\nQ 55.609375 10.40625 48.1875 4.484375 \r\nQ 40.765625 -1.421875 27.09375 -1.421875 \r\nQ 22.515625 -1.421875 17.65625 -0.515625 \r\nQ 12.796875 0.390625 7.625 2.203125 \r\nL 7.625 11.71875 \r\nQ 11.71875 9.328125 16.59375 8.109375 \r\nQ 21.484375 6.890625 26.8125 6.890625 \r\nQ 36.078125 6.890625 40.9375 10.546875 \r\nQ 45.796875 14.203125 45.796875 21.1875 \r\nQ 45.796875 27.640625 41.28125 31.265625 \r\nQ 36.765625 34.90625 28.71875 34.90625 \r\nL 20.21875 34.90625 \r\nL 20.21875 43.015625 \r\nL 29.109375 43.015625 \r\nQ 36.375 43.015625 40.234375 45.921875 \r\nQ 44.09375 48.828125 44.09375 54.296875 \r\nQ 44.09375 59.90625 40.109375 62.90625 \r\nQ 36.140625 65.921875 28.71875 65.921875 \r\nQ 24.65625 65.921875 20.015625 65.03125 \r\nQ 15.375 64.15625 9.8125 62.3125 \r\nL 9.8125 71.09375 \r\nQ 15.4375 72.65625 20.34375 73.4375 \r\nQ 25.25 74.21875 29.59375 74.21875 \r\nQ 40.828125 74.21875 47.359375 69.109375 \r\nQ 53.90625 64.015625 53.90625 55.328125 \r\nQ 53.90625 49.265625 50.4375 45.09375 \r\nQ 46.96875 40.921875 40.578125 39.3125 \r\nz\r\n\" id=\"DejaVuSans-51\"/>\r\n       </defs>\r\n       <use xlink:href=\"#DejaVuSans-48\"/>\r\n       <use x=\"63.623047\" xlink:href=\"#DejaVuSans-46\"/>\r\n       <use x=\"95.410156\" xlink:href=\"#DejaVuSans-48\"/>\r\n       <use x=\"159.033203\" xlink:href=\"#DejaVuSans-48\"/>\r\n       <use x=\"222.65625\" xlink:href=\"#DejaVuSans-48\"/>\r\n       <use x=\"286.279297\" xlink:href=\"#DejaVuSans-51\"/>\r\n       <use x=\"349.902344\" xlink:href=\"#DejaVuSans-48\"/>\r\n      </g>\r\n     </g>\r\n    </g>\r\n    <g id=\"ytick_8\">\r\n     <g id=\"line2d_15\">\r\n      <g>\r\n       <use style=\"stroke:#000000;stroke-width:0.8;\" x=\"69.23125\" xlink:href=\"#mf35709148b\" y=\"55.847747\"/>\r\n      </g>\r\n     </g>\r\n     <g id=\"text_16\">\r\n      <!-- 0.00035 -->\r\n      <g transform=\"translate(20.878125 59.646966)scale(0.1 -0.1)\">\r\n       <use xlink:href=\"#DejaVuSans-48\"/>\r\n       <use x=\"63.623047\" xlink:href=\"#DejaVuSans-46\"/>\r\n       <use x=\"95.410156\" xlink:href=\"#DejaVuSans-48\"/>\r\n       <use x=\"159.033203\" xlink:href=\"#DejaVuSans-48\"/>\r\n       <use x=\"222.65625\" xlink:href=\"#DejaVuSans-48\"/>\r\n       <use x=\"286.279297\" xlink:href=\"#DejaVuSans-51\"/>\r\n       <use x=\"349.902344\" xlink:href=\"#DejaVuSans-53\"/>\r\n      </g>\r\n     </g>\r\n    </g>\r\n    <g id=\"ytick_9\">\r\n     <g id=\"line2d_16\">\r\n      <g>\r\n       <use style=\"stroke:#000000;stroke-width:0.8;\" x=\"69.23125\" xlink:href=\"#mf35709148b\" y=\"29.574836\"/>\r\n      </g>\r\n     </g>\r\n     <g id=\"text_17\">\r\n      <!-- 0.00040 -->\r\n      <g transform=\"translate(20.878125 33.374055)scale(0.1 -0.1)\">\r\n       <use xlink:href=\"#DejaVuSans-48\"/>\r\n       <use x=\"63.623047\" xlink:href=\"#DejaVuSans-46\"/>\r\n       <use x=\"95.410156\" xlink:href=\"#DejaVuSans-48\"/>\r\n       <use x=\"159.033203\" xlink:href=\"#DejaVuSans-48\"/>\r\n       <use x=\"222.65625\" xlink:href=\"#DejaVuSans-48\"/>\r\n       <use x=\"286.279297\" xlink:href=\"#DejaVuSans-52\"/>\r\n       <use x=\"349.902344\" xlink:href=\"#DejaVuSans-48\"/>\r\n      </g>\r\n     </g>\r\n    </g>\r\n    <g id=\"text_18\">\r\n     <!-- Density -->\r\n     <g transform=\"translate(14.798437 150.046719)rotate(-90)scale(0.1 -0.1)\">\r\n      <defs>\r\n       <path d=\"M 19.671875 64.796875 \r\nL 19.671875 8.109375 \r\nL 31.59375 8.109375 \r\nQ 46.6875 8.109375 53.6875 14.9375 \r\nQ 60.6875 21.78125 60.6875 36.53125 \r\nQ 60.6875 51.171875 53.6875 57.984375 \r\nQ 46.6875 64.796875 31.59375 64.796875 \r\nz\r\nM 9.8125 72.90625 \r\nL 30.078125 72.90625 \r\nQ 51.265625 72.90625 61.171875 64.09375 \r\nQ 71.09375 55.28125 71.09375 36.53125 \r\nQ 71.09375 17.671875 61.125 8.828125 \r\nQ 51.171875 0 30.078125 0 \r\nL 9.8125 0 \r\nz\r\n\" id=\"DejaVuSans-68\"/>\r\n       <path d=\"M 56.203125 29.59375 \r\nL 56.203125 25.203125 \r\nL 14.890625 25.203125 \r\nQ 15.484375 15.921875 20.484375 11.0625 \r\nQ 25.484375 6.203125 34.421875 6.203125 \r\nQ 39.59375 6.203125 44.453125 7.46875 \r\nQ 49.3125 8.734375 54.109375 11.28125 \r\nL 54.109375 2.78125 \r\nQ 49.265625 0.734375 44.1875 -0.34375 \r\nQ 39.109375 -1.421875 33.890625 -1.421875 \r\nQ 20.796875 -1.421875 13.15625 6.1875 \r\nQ 5.515625 13.8125 5.515625 26.8125 \r\nQ 5.515625 40.234375 12.765625 48.109375 \r\nQ 20.015625 56 32.328125 56 \r\nQ 43.359375 56 49.78125 48.890625 \r\nQ 56.203125 41.796875 56.203125 29.59375 \r\nz\r\nM 47.21875 32.234375 \r\nQ 47.125 39.59375 43.09375 43.984375 \r\nQ 39.0625 48.390625 32.421875 48.390625 \r\nQ 24.90625 48.390625 20.390625 44.140625 \r\nQ 15.875 39.890625 15.1875 32.171875 \r\nz\r\n\" id=\"DejaVuSans-101\"/>\r\n       <path d=\"M 54.890625 33.015625 \r\nL 54.890625 0 \r\nL 45.90625 0 \r\nL 45.90625 32.71875 \r\nQ 45.90625 40.484375 42.875 44.328125 \r\nQ 39.84375 48.1875 33.796875 48.1875 \r\nQ 26.515625 48.1875 22.3125 43.546875 \r\nQ 18.109375 38.921875 18.109375 30.90625 \r\nL 18.109375 0 \r\nL 9.078125 0 \r\nL 9.078125 54.6875 \r\nL 18.109375 54.6875 \r\nL 18.109375 46.1875 \r\nQ 21.34375 51.125 25.703125 53.5625 \r\nQ 30.078125 56 35.796875 56 \r\nQ 45.21875 56 50.046875 50.171875 \r\nQ 54.890625 44.34375 54.890625 33.015625 \r\nz\r\n\" id=\"DejaVuSans-110\"/>\r\n       <path d=\"M 44.28125 53.078125 \r\nL 44.28125 44.578125 \r\nQ 40.484375 46.53125 36.375 47.5 \r\nQ 32.28125 48.484375 27.875 48.484375 \r\nQ 21.1875 48.484375 17.84375 46.4375 \r\nQ 14.5 44.390625 14.5 40.28125 \r\nQ 14.5 37.15625 16.890625 35.375 \r\nQ 19.28125 33.59375 26.515625 31.984375 \r\nL 29.59375 31.296875 \r\nQ 39.15625 29.25 43.1875 25.515625 \r\nQ 47.21875 21.78125 47.21875 15.09375 \r\nQ 47.21875 7.46875 41.1875 3.015625 \r\nQ 35.15625 -1.421875 24.609375 -1.421875 \r\nQ 20.21875 -1.421875 15.453125 -0.5625 \r\nQ 10.6875 0.296875 5.421875 2 \r\nL 5.421875 11.28125 \r\nQ 10.40625 8.6875 15.234375 7.390625 \r\nQ 20.0625 6.109375 24.8125 6.109375 \r\nQ 31.15625 6.109375 34.5625 8.28125 \r\nQ 37.984375 10.453125 37.984375 14.40625 \r\nQ 37.984375 18.0625 35.515625 20.015625 \r\nQ 33.0625 21.96875 24.703125 23.78125 \r\nL 21.578125 24.515625 \r\nQ 13.234375 26.265625 9.515625 29.90625 \r\nQ 5.8125 33.546875 5.8125 39.890625 \r\nQ 5.8125 47.609375 11.28125 51.796875 \r\nQ 16.75 56 26.8125 56 \r\nQ 31.78125 56 36.171875 55.265625 \r\nQ 40.578125 54.546875 44.28125 53.078125 \r\nz\r\n\" id=\"DejaVuSans-115\"/>\r\n       <path d=\"M 9.421875 54.6875 \r\nL 18.40625 54.6875 \r\nL 18.40625 0 \r\nL 9.421875 0 \r\nz\r\nM 9.421875 75.984375 \r\nL 18.40625 75.984375 \r\nL 18.40625 64.59375 \r\nL 9.421875 64.59375 \r\nz\r\n\" id=\"DejaVuSans-105\"/>\r\n       <path d=\"M 18.3125 70.21875 \r\nL 18.3125 54.6875 \r\nL 36.8125 54.6875 \r\nL 36.8125 47.703125 \r\nL 18.3125 47.703125 \r\nL 18.3125 18.015625 \r\nQ 18.3125 11.328125 20.140625 9.421875 \r\nQ 21.96875 7.515625 27.59375 7.515625 \r\nL 36.8125 7.515625 \r\nL 36.8125 0 \r\nL 27.59375 0 \r\nQ 17.1875 0 13.234375 3.875 \r\nQ 9.28125 7.765625 9.28125 18.015625 \r\nL 9.28125 47.703125 \r\nL 2.6875 47.703125 \r\nL 2.6875 54.6875 \r\nL 9.28125 54.6875 \r\nL 9.28125 70.21875 \r\nz\r\n\" id=\"DejaVuSans-116\"/>\r\n       <path d=\"M 32.171875 -5.078125 \r\nQ 28.375 -14.84375 24.75 -17.8125 \r\nQ 21.140625 -20.796875 15.09375 -20.796875 \r\nL 7.90625 -20.796875 \r\nL 7.90625 -13.28125 \r\nL 13.1875 -13.28125 \r\nQ 16.890625 -13.28125 18.9375 -11.515625 \r\nQ 21 -9.765625 23.484375 -3.21875 \r\nL 25.09375 0.875 \r\nL 2.984375 54.6875 \r\nL 12.5 54.6875 \r\nL 29.59375 11.921875 \r\nL 46.6875 54.6875 \r\nL 56.203125 54.6875 \r\nz\r\n\" id=\"DejaVuSans-121\"/>\r\n      </defs>\r\n      <use xlink:href=\"#DejaVuSans-68\"/>\r\n      <use x=\"77.001953\" xlink:href=\"#DejaVuSans-101\"/>\r\n      <use x=\"138.525391\" xlink:href=\"#DejaVuSans-110\"/>\r\n      <use x=\"201.904297\" xlink:href=\"#DejaVuSans-115\"/>\r\n      <use x=\"254.003906\" xlink:href=\"#DejaVuSans-105\"/>\r\n      <use x=\"281.787109\" xlink:href=\"#DejaVuSans-116\"/>\r\n      <use x=\"320.996094\" xlink:href=\"#DejaVuSans-121\"/>\r\n     </g>\r\n    </g>\r\n   </g>\r\n   <g id=\"line2d_17\">\r\n    <path clip-path=\"url(#pf8b2eaab93)\" d=\"M 84.449432 239.737805 \r\nL 92.096759 239.603592 \r\nL 98.214621 239.249459 \r\nL 104.332483 238.608114 \r\nL 111.979811 237.768247 \r\nL 119.627139 237.080022 \r\nL 122.68607 236.589916 \r\nL 125.745001 235.813895 \r\nL 128.803932 234.708188 \r\nL 131.862863 233.29927 \r\nL 134.921794 231.644742 \r\nL 137.980725 229.762718 \r\nL 141.039656 227.568524 \r\nL 142.569121 226.293769 \r\nL 144.098587 224.854977 \r\nL 145.628052 223.21298 \r\nL 147.157518 221.327707 \r\nL 148.686983 219.160905 \r\nL 150.216449 216.678777 \r\nL 151.745914 213.854325 \r\nL 153.27538 210.669315 \r\nL 154.804845 207.115747 \r\nL 156.334311 203.196734 \r\nL 159.393242 194.330407 \r\nL 162.452173 184.300395 \r\nL 165.511104 173.426223 \r\nL 170.0995 156.125557 \r\nL 174.687897 137.877196 \r\nL 179.276293 118.494427 \r\nL 186.923621 85.625695 \r\nL 189.982552 74.103771 \r\nL 191.512017 69.055979 \r\nL 193.041483 64.577945 \r\nL 194.570948 60.722629 \r\nL 196.100414 57.531058 \r\nL 197.62988 55.036239 \r\nL 199.159345 53.267621 \r\nL 200.688811 52.254886 \r\nL 202.218276 52.029987 \r\nL 203.747742 52.626632 \r\nL 205.277207 54.076879 \r\nL 206.806673 56.405078 \r\nL 208.336138 59.61995 \r\nL 209.865604 63.706091 \r\nL 211.395069 68.616495 \r\nL 212.924535 74.267688 \r\nL 215.983466 87.275337 \r\nL 222.101328 115.18163 \r\nL 223.630793 121.520092 \r\nL 225.160259 127.348615 \r\nL 226.689724 132.61651 \r\nL 228.21919 137.322613 \r\nL 229.748655 141.511428 \r\nL 231.278121 145.265056 \r\nL 234.337052 151.914948 \r\nL 238.925448 161.529829 \r\nL 241.984379 168.736193 \r\nL 245.04331 176.847677 \r\nL 249.631707 190.081791 \r\nL 252.690638 198.837493 \r\nL 255.749569 206.924835 \r\nL 258.8085 214.005534 \r\nL 260.337965 217.12323 \r\nL 261.867431 219.959634 \r\nL 263.396896 222.52616 \r\nL 264.926362 224.839467 \r\nL 266.455827 226.918619 \r\nL 267.985293 228.78276 \r\nL 269.514758 230.449498 \r\nL 271.044224 231.934069 \r\nL 272.573689 233.249211 \r\nL 274.103155 234.40559 \r\nL 275.63262 235.412537 \r\nL 277.162086 236.278883 \r\nL 280.221017 237.626694 \r\nL 283.279948 238.530473 \r\nL 286.338879 239.081258 \r\nL 289.39781 239.367025 \r\nL 292.456741 239.457916 \r\nL 297.045138 239.323747 \r\nL 301.633534 238.943262 \r\nL 312.339793 237.882331 \r\nL 316.928189 237.745093 \r\nL 324.575517 237.657612 \r\nL 327.634448 237.44559 \r\nL 332.222844 236.881236 \r\nL 338.340706 236.096342 \r\nL 341.399637 235.90564 \r\nL 344.458568 235.902337 \r\nL 349.046965 236.17189 \r\nL 356.694292 236.928157 \r\nL 364.34162 237.898668 \r\nL 373.518413 239.093833 \r\nL 378.10681 239.459823 \r\nL 384.224672 239.683932 \r\nL 388.813068 239.737749 \r\nL 388.813068 239.737749 \r\n\" style=\"fill:none;stroke:#1f77b4;stroke-linecap:square;stroke-width:1.5;\"/>\r\n   </g>\r\n   <g id=\"patch_28\">\r\n    <path d=\"M 69.23125 239.758125 \r\nL 69.23125 22.318125 \r\n\" style=\"fill:none;stroke:#000000;stroke-linecap:square;stroke-linejoin:miter;stroke-width:0.8;\"/>\r\n   </g>\r\n   <g id=\"patch_29\">\r\n    <path d=\"M 404.03125 239.758125 \r\nL 404.03125 22.318125 \r\n\" style=\"fill:none;stroke:#000000;stroke-linecap:square;stroke-linejoin:miter;stroke-width:0.8;\"/>\r\n   </g>\r\n   <g id=\"patch_30\">\r\n    <path d=\"M 69.23125 239.758125 \r\nL 404.03125 239.758125 \r\n\" style=\"fill:none;stroke:#000000;stroke-linecap:square;stroke-linejoin:miter;stroke-width:0.8;\"/>\r\n   </g>\r\n   <g id=\"patch_31\">\r\n    <path d=\"M 69.23125 22.318125 \r\nL 404.03125 22.318125 \r\n\" style=\"fill:none;stroke:#000000;stroke-linecap:square;stroke-linejoin:miter;stroke-width:0.8;\"/>\r\n   </g>\r\n   <g id=\"text_19\">\r\n    <!-- Error Plot - Linear Regression -->\r\n    <g transform=\"translate(149.445625 16.318125)scale(0.12 -0.12)\">\r\n     <defs>\r\n      <path id=\"DejaVuSans-32\"/>\r\n      <path d=\"M 19.671875 64.796875 \r\nL 19.671875 37.40625 \r\nL 32.078125 37.40625 \r\nQ 38.96875 37.40625 42.71875 40.96875 \r\nQ 46.484375 44.53125 46.484375 51.125 \r\nQ 46.484375 57.671875 42.71875 61.234375 \r\nQ 38.96875 64.796875 32.078125 64.796875 \r\nz\r\nM 9.8125 72.90625 \r\nL 32.078125 72.90625 \r\nQ 44.34375 72.90625 50.609375 67.359375 \r\nQ 56.890625 61.8125 56.890625 51.125 \r\nQ 56.890625 40.328125 50.609375 34.8125 \r\nQ 44.34375 29.296875 32.078125 29.296875 \r\nL 19.671875 29.296875 \r\nL 19.671875 0 \r\nL 9.8125 0 \r\nz\r\n\" id=\"DejaVuSans-80\"/>\r\n      <path d=\"M 9.421875 75.984375 \r\nL 18.40625 75.984375 \r\nL 18.40625 0 \r\nL 9.421875 0 \r\nz\r\n\" id=\"DejaVuSans-108\"/>\r\n      <path d=\"M 4.890625 31.390625 \r\nL 31.203125 31.390625 \r\nL 31.203125 23.390625 \r\nL 4.890625 23.390625 \r\nz\r\n\" id=\"DejaVuSans-45\"/>\r\n      <path d=\"M 9.8125 72.90625 \r\nL 19.671875 72.90625 \r\nL 19.671875 8.296875 \r\nL 55.171875 8.296875 \r\nL 55.171875 0 \r\nL 9.8125 0 \r\nz\r\n\" id=\"DejaVuSans-76\"/>\r\n      <path d=\"M 34.28125 27.484375 \r\nQ 23.390625 27.484375 19.1875 25 \r\nQ 14.984375 22.515625 14.984375 16.5 \r\nQ 14.984375 11.71875 18.140625 8.90625 \r\nQ 21.296875 6.109375 26.703125 6.109375 \r\nQ 34.1875 6.109375 38.703125 11.40625 \r\nQ 43.21875 16.703125 43.21875 25.484375 \r\nL 43.21875 27.484375 \r\nz\r\nM 52.203125 31.203125 \r\nL 52.203125 0 \r\nL 43.21875 0 \r\nL 43.21875 8.296875 \r\nQ 40.140625 3.328125 35.546875 0.953125 \r\nQ 30.953125 -1.421875 24.3125 -1.421875 \r\nQ 15.921875 -1.421875 10.953125 3.296875 \r\nQ 6 8.015625 6 15.921875 \r\nQ 6 25.140625 12.171875 29.828125 \r\nQ 18.359375 34.515625 30.609375 34.515625 \r\nL 43.21875 34.515625 \r\nL 43.21875 35.40625 \r\nQ 43.21875 41.609375 39.140625 45 \r\nQ 35.0625 48.390625 27.6875 48.390625 \r\nQ 23 48.390625 18.546875 47.265625 \r\nQ 14.109375 46.140625 10.015625 43.890625 \r\nL 10.015625 52.203125 \r\nQ 14.9375 54.109375 19.578125 55.046875 \r\nQ 24.21875 56 28.609375 56 \r\nQ 40.484375 56 46.34375 49.84375 \r\nQ 52.203125 43.703125 52.203125 31.203125 \r\nz\r\n\" id=\"DejaVuSans-97\"/>\r\n      <path d=\"M 44.390625 34.1875 \r\nQ 47.5625 33.109375 50.5625 29.59375 \r\nQ 53.5625 26.078125 56.59375 19.921875 \r\nL 66.609375 0 \r\nL 56 0 \r\nL 46.6875 18.703125 \r\nQ 43.0625 26.03125 39.671875 28.421875 \r\nQ 36.28125 30.8125 30.421875 30.8125 \r\nL 19.671875 30.8125 \r\nL 19.671875 0 \r\nL 9.8125 0 \r\nL 9.8125 72.90625 \r\nL 32.078125 72.90625 \r\nQ 44.578125 72.90625 50.734375 67.671875 \r\nQ 56.890625 62.453125 56.890625 51.90625 \r\nQ 56.890625 45.015625 53.6875 40.46875 \r\nQ 50.484375 35.9375 44.390625 34.1875 \r\nz\r\nM 19.671875 64.796875 \r\nL 19.671875 38.921875 \r\nL 32.078125 38.921875 \r\nQ 39.203125 38.921875 42.84375 42.21875 \r\nQ 46.484375 45.515625 46.484375 51.90625 \r\nQ 46.484375 58.296875 42.84375 61.546875 \r\nQ 39.203125 64.796875 32.078125 64.796875 \r\nz\r\n\" id=\"DejaVuSans-82\"/>\r\n      <path d=\"M 45.40625 27.984375 \r\nQ 45.40625 37.75 41.375 43.109375 \r\nQ 37.359375 48.484375 30.078125 48.484375 \r\nQ 22.859375 48.484375 18.828125 43.109375 \r\nQ 14.796875 37.75 14.796875 27.984375 \r\nQ 14.796875 18.265625 18.828125 12.890625 \r\nQ 22.859375 7.515625 30.078125 7.515625 \r\nQ 37.359375 7.515625 41.375 12.890625 \r\nQ 45.40625 18.265625 45.40625 27.984375 \r\nz\r\nM 54.390625 6.78125 \r\nQ 54.390625 -7.171875 48.1875 -13.984375 \r\nQ 42 -20.796875 29.203125 -20.796875 \r\nQ 24.46875 -20.796875 20.265625 -20.09375 \r\nQ 16.0625 -19.390625 12.109375 -17.921875 \r\nL 12.109375 -9.1875 \r\nQ 16.0625 -11.328125 19.921875 -12.34375 \r\nQ 23.78125 -13.375 27.78125 -13.375 \r\nQ 36.625 -13.375 41.015625 -8.765625 \r\nQ 45.40625 -4.15625 45.40625 5.171875 \r\nL 45.40625 9.625 \r\nQ 42.625 4.78125 38.28125 2.390625 \r\nQ 33.9375 0 27.875 0 \r\nQ 17.828125 0 11.671875 7.65625 \r\nQ 5.515625 15.328125 5.515625 27.984375 \r\nQ 5.515625 40.671875 11.671875 48.328125 \r\nQ 17.828125 56 27.875 56 \r\nQ 33.9375 56 38.28125 53.609375 \r\nQ 42.625 51.21875 45.40625 46.390625 \r\nL 45.40625 54.6875 \r\nL 54.390625 54.6875 \r\nz\r\n\" id=\"DejaVuSans-103\"/>\r\n     </defs>\r\n     <use xlink:href=\"#DejaVuSans-69\"/>\r\n     <use x=\"63.183594\" xlink:href=\"#DejaVuSans-114\"/>\r\n     <use x=\"102.546875\" xlink:href=\"#DejaVuSans-114\"/>\r\n     <use x=\"141.410156\" xlink:href=\"#DejaVuSans-111\"/>\r\n     <use x=\"202.591797\" xlink:href=\"#DejaVuSans-114\"/>\r\n     <use x=\"243.705078\" xlink:href=\"#DejaVuSans-32\"/>\r\n     <use x=\"275.492188\" xlink:href=\"#DejaVuSans-80\"/>\r\n     <use x=\"335.794922\" xlink:href=\"#DejaVuSans-108\"/>\r\n     <use x=\"363.578125\" xlink:href=\"#DejaVuSans-111\"/>\r\n     <use x=\"424.759766\" xlink:href=\"#DejaVuSans-116\"/>\r\n     <use x=\"463.96875\" xlink:href=\"#DejaVuSans-32\"/>\r\n     <use x=\"495.755859\" xlink:href=\"#DejaVuSans-45\"/>\r\n     <use x=\"531.839844\" xlink:href=\"#DejaVuSans-32\"/>\r\n     <use x=\"563.626953\" xlink:href=\"#DejaVuSans-76\"/>\r\n     <use x=\"619.339844\" xlink:href=\"#DejaVuSans-105\"/>\r\n     <use x=\"647.123047\" xlink:href=\"#DejaVuSans-110\"/>\r\n     <use x=\"710.501953\" xlink:href=\"#DejaVuSans-101\"/>\r\n     <use x=\"772.025391\" xlink:href=\"#DejaVuSans-97\"/>\r\n     <use x=\"833.304688\" xlink:href=\"#DejaVuSans-114\"/>\r\n     <use x=\"874.417969\" xlink:href=\"#DejaVuSans-32\"/>\r\n     <use x=\"906.205078\" xlink:href=\"#DejaVuSans-82\"/>\r\n     <use x=\"971.1875\" xlink:href=\"#DejaVuSans-101\"/>\r\n     <use x=\"1032.710938\" xlink:href=\"#DejaVuSans-103\"/>\r\n     <use x=\"1096.1875\" xlink:href=\"#DejaVuSans-114\"/>\r\n     <use x=\"1135.050781\" xlink:href=\"#DejaVuSans-101\"/>\r\n     <use x=\"1196.574219\" xlink:href=\"#DejaVuSans-115\"/>\r\n     <use x=\"1248.673828\" xlink:href=\"#DejaVuSans-115\"/>\r\n     <use x=\"1300.773438\" xlink:href=\"#DejaVuSans-105\"/>\r\n     <use x=\"1328.556641\" xlink:href=\"#DejaVuSans-111\"/>\r\n     <use x=\"1389.738281\" xlink:href=\"#DejaVuSans-110\"/>\r\n    </g>\r\n   </g>\r\n  </g>\r\n </g>\r\n <defs>\r\n  <clipPath id=\"pf8b2eaab93\">\r\n   <rect height=\"217.44\" width=\"334.8\" x=\"69.23125\" y=\"22.318125\"/>\r\n  </clipPath>\r\n </defs>\r\n</svg>\r\n",
      "image/png": "[encoded data removed]"
     },
     "metadata": {
      "needs_background": "light"
     }
    }
   ],
   "source": [
    "# Check to see if the error probabiliy distribution is normal\n",
    "residual = y_test - pred_LR\n",
    "sns.distplot(residual).set(title='Error Plot - Linear Regression', xlabel= 'Error')\n"
   ]
  },
  {
   "source": [
    "### Build MLP model"
   ],
   "cell_type": "markdown",
   "metadata": {}
  },
  {
   "cell_type": "code",
   "execution_count": 24,
   "metadata": {},
   "outputs": [],
   "source": [
    "# Normalize features for MLP \n",
    "sc = StandardScaler()\n",
    "X_train = sc.fit_transform(X_train)\n",
    "X_test = sc.transform(X_test)"
   ]
  },
  {
   "cell_type": "code",
   "execution_count": 28,
   "metadata": {},
   "outputs": [],
   "source": [
    "# build model and set parameters(neurons and # layers)\n",
    "input_layer = Input(shape=(X.shape[1],))\n",
    "\n",
    "# Test both 1 and 2 hidden layers \n",
    "dense_layer_1 = Dense(100, activation='relu')(input_layer)\n",
    "dense_layer_2 = Dense(100, activation='relu')(dense_layer_1)\n",
    "output = Dense(1)(dense_layer_2)\n",
    "# output = Dense(1)(dense_layer_1)\n",
    "\n",
    "\n",
    "model = Model(inputs=input_layer, outputs=output)\n",
    "model.compile(loss=\"mean_squared_error\" , optimizer=\"adam\", metrics=[\"mean_squared_error\"])"
   ]
  },
  {
   "source": [
    "### Evaluate MLP model"
   ],
   "cell_type": "markdown",
   "metadata": {}
  },
  {
   "cell_type": "code",
   "execution_count": 33,
   "metadata": {
    "tags": [
     "outputPrepend"
    ]
   },
   "outputs": [
    {
     "output_type": "stream",
     "name": "stdout",
     "text": [
      "===================] - 1s 2ms/step - loss: 1230923.8750 - mean_squared_error: 1230923.8750 - val_loss: 1460558.5000 - val_mean_squared_error: 1460558.5000\n",
      "Epoch 396/500\n",
      "437/437 [==============================] - 1s 3ms/step - loss: 1240467.1250 - mean_squared_error: 1240467.1250 - val_loss: 1403704.3750 - val_mean_squared_error: 1403704.3750\n",
      "Epoch 397/500\n",
      "437/437 [==============================] - 1s 3ms/step - loss: 1242996.3750 - mean_squared_error: 1242996.3750 - val_loss: 1398868.0000 - val_mean_squared_error: 1398868.0000\n",
      "Epoch 398/500\n",
      "437/437 [==============================] - 1s 2ms/step - loss: 1241679.1250 - mean_squared_error: 1241679.1250 - val_loss: 1385371.8750 - val_mean_squared_error: 1385371.8750\n",
      "Epoch 399/500\n",
      "437/437 [==============================] - 1s 2ms/step - loss: 1239995.3750 - mean_squared_error: 1239995.3750 - val_loss: 1390328.8750 - val_mean_squared_error: 1390328.8750\n",
      "Epoch 400/500\n",
      "437/437 [==============================] - 1s 2ms/step - loss: 1227531.2500 - mean_squared_error: 1227531.2500 - val_loss: 1411371.5000 - val_mean_squared_error: 1411371.5000\n",
      "Epoch 401/500\n",
      "437/437 [==============================] - 1s 3ms/step - loss: 1244794.6250 - mean_squared_error: 1244794.6250 - val_loss: 1398085.0000 - val_mean_squared_error: 1398085.0000\n",
      "Epoch 402/500\n",
      "437/437 [==============================] - 1s 3ms/step - loss: 1237166.7500 - mean_squared_error: 1237166.7500 - val_loss: 1405124.1250 - val_mean_squared_error: 1405124.1250\n",
      "Epoch 403/500\n",
      "437/437 [==============================] - 1s 2ms/step - loss: 1236744.7500 - mean_squared_error: 1236744.7500 - val_loss: 1386478.8750 - val_mean_squared_error: 1386478.8750\n",
      "Epoch 404/500\n",
      "437/437 [==============================] - 1s 2ms/step - loss: 1230019.6250 - mean_squared_error: 1230019.6250 - val_loss: 1409632.2500 - val_mean_squared_error: 1409632.2500\n",
      "Epoch 405/500\n",
      "437/437 [==============================] - 1s 3ms/step - loss: 1239743.3750 - mean_squared_error: 1239743.3750 - val_loss: 1392168.7500 - val_mean_squared_error: 1392168.7500\n",
      "Epoch 406/500\n",
      "437/437 [==============================] - 1s 2ms/step - loss: 1232460.6250 - mean_squared_error: 1232460.6250 - val_loss: 1406326.7500 - val_mean_squared_error: 1406326.7500\n",
      "Epoch 407/500\n",
      "437/437 [==============================] - 1s 3ms/step - loss: 1229981.8750 - mean_squared_error: 1229981.8750 - val_loss: 1420370.3750 - val_mean_squared_error: 1420370.3750\n",
      "Epoch 408/500\n",
      "437/437 [==============================] - 1s 2ms/step - loss: 1239037.1250 - mean_squared_error: 1239037.1250 - val_loss: 1418550.1250 - val_mean_squared_error: 1418550.1250\n",
      "Epoch 409/500\n",
      "437/437 [==============================] - 1s 3ms/step - loss: 1231914.1250 - mean_squared_error: 1231914.1250 - val_loss: 1393420.6250 - val_mean_squared_error: 1393420.6250\n",
      "Epoch 410/500\n",
      "437/437 [==============================] - 1s 3ms/step - loss: 1248151.0000 - mean_squared_error: 1248151.0000 - val_loss: 1392681.5000 - val_mean_squared_error: 1392681.5000\n",
      "Epoch 411/500\n",
      "437/437 [==============================] - 1s 2ms/step - loss: 1237155.7500 - mean_squared_error: 1237155.7500 - val_loss: 1371962.1250 - val_mean_squared_error: 1371962.1250\n",
      "Epoch 412/500\n",
      "437/437 [==============================] - 1s 2ms/step - loss: 1236794.7500 - mean_squared_error: 1236794.7500 - val_loss: 1409736.7500 - val_mean_squared_error: 1409736.7500\n",
      "Epoch 413/500\n",
      "437/437 [==============================] - 1s 2ms/step - loss: 1248098.7500 - mean_squared_error: 1248098.7500 - val_loss: 1391586.2500 - val_mean_squared_error: 1391586.2500\n",
      "Epoch 414/500\n",
      "437/437 [==============================] - 1s 2ms/step - loss: 1241525.8750 - mean_squared_error: 1241525.8750 - val_loss: 1392188.0000 - val_mean_squared_error: 1392188.0000\n",
      "Epoch 415/500\n",
      "437/437 [==============================] - 1s 2ms/step - loss: 1231728.0000 - mean_squared_error: 1231728.0000 - val_loss: 1397826.3750 - val_mean_squared_error: 1397826.3750\n",
      "Epoch 416/500\n",
      "437/437 [==============================] - 1s 2ms/step - loss: 1244035.5000 - mean_squared_error: 1244035.5000 - val_loss: 1397175.1250 - val_mean_squared_error: 1397175.1250\n",
      "Epoch 417/500\n",
      "437/437 [==============================] - 1s 2ms/step - loss: 1232824.6250 - mean_squared_error: 1232824.6250 - val_loss: 1413577.2500 - val_mean_squared_error: 1413577.2500\n",
      "Epoch 418/500\n",
      "437/437 [==============================] - 1s 3ms/step - loss: 1246925.0000 - mean_squared_error: 1246925.0000 - val_loss: 1380368.2500 - val_mean_squared_error: 1380368.2500\n",
      "Epoch 419/500\n",
      "437/437 [==============================] - 1s 3ms/step - loss: 1232600.1250 - mean_squared_error: 1232600.1250 - val_loss: 1412287.5000 - val_mean_squared_error: 1412287.5000\n",
      "Epoch 420/500\n",
      "437/437 [==============================] - 1s 2ms/step - loss: 1231652.1250 - mean_squared_error: 1231652.1250 - val_loss: 1393278.8750 - val_mean_squared_error: 1393278.8750\n",
      "Epoch 421/500\n",
      "437/437 [==============================] - 1s 2ms/step - loss: 1245870.8750 - mean_squared_error: 1245870.8750 - val_loss: 1425084.7500 - val_mean_squared_error: 1425084.7500\n",
      "Epoch 422/500\n",
      "437/437 [==============================] - 1s 3ms/step - loss: 1246409.7500 - mean_squared_error: 1246409.7500 - val_loss: 1410840.0000 - val_mean_squared_error: 1410840.0000\n",
      "Epoch 423/500\n",
      "437/437 [==============================] - 1s 3ms/step - loss: 1240659.8750 - mean_squared_error: 1240659.8750 - val_loss: 1374570.8750 - val_mean_squared_error: 1374570.8750\n",
      "Epoch 424/500\n",
      "437/437 [==============================] - 1s 2ms/step - loss: 1240587.6250 - mean_squared_error: 1240587.6250 - val_loss: 1383523.7500 - val_mean_squared_error: 1383523.7500\n",
      "Epoch 425/500\n",
      "437/437 [==============================] - 1s 2ms/step - loss: 1239505.3750 - mean_squared_error: 1239505.3750 - val_loss: 1391017.2500 - val_mean_squared_error: 1391017.2500\n",
      "Epoch 426/500\n",
      "437/437 [==============================] - 1s 2ms/step - loss: 1212697.3750 - mean_squared_error: 1212697.3750 - val_loss: 1476723.1250 - val_mean_squared_error: 1476723.1250\n",
      "Epoch 427/500\n",
      "437/437 [==============================] - 1s 2ms/step - loss: 1252089.5000 - mean_squared_error: 1252089.5000 - val_loss: 1404490.1250 - val_mean_squared_error: 1404490.1250\n",
      "Epoch 428/500\n",
      "437/437 [==============================] - 1s 2ms/step - loss: 1243296.7500 - mean_squared_error: 1243296.7500 - val_loss: 1396310.2500 - val_mean_squared_error: 1396310.2500\n",
      "Epoch 429/500\n",
      "437/437 [==============================] - 1s 3ms/step - loss: 1239744.6250 - mean_squared_error: 1239744.6250 - val_loss: 1386675.0000 - val_mean_squared_error: 1386675.0000\n",
      "Epoch 430/500\n",
      "437/437 [==============================] - 1s 2ms/step - loss: 1235350.7500 - mean_squared_error: 1235350.7500 - val_loss: 1430949.5000 - val_mean_squared_error: 1430949.5000\n",
      "Epoch 431/500\n",
      "437/437 [==============================] - 1s 2ms/step - loss: 1232429.1250 - mean_squared_error: 1232429.1250 - val_loss: 1410283.8750 - val_mean_squared_error: 1410283.8750\n",
      "Epoch 432/500\n",
      "437/437 [==============================] - 1s 3ms/step - loss: 1236592.6250 - mean_squared_error: 1236592.6250 - val_loss: 1402033.6250 - val_mean_squared_error: 1402033.6250\n",
      "Epoch 433/500\n",
      "437/437 [==============================] - 1s 2ms/step - loss: 1240667.1250 - mean_squared_error: 1240667.1250 - val_loss: 1409650.5000 - val_mean_squared_error: 1409650.5000\n",
      "Epoch 434/500\n",
      "437/437 [==============================] - 1s 2ms/step - loss: 1242604.3750 - mean_squared_error: 1242604.3750 - val_loss: 1384585.6250 - val_mean_squared_error: 1384585.6250\n",
      "Epoch 435/500\n",
      "437/437 [==============================] - 1s 2ms/step - loss: 1235456.0000 - mean_squared_error: 1235456.0000 - val_loss: 1383040.2500 - val_mean_squared_error: 1383040.2500\n",
      "Epoch 436/500\n",
      "437/437 [==============================] - 2s 5ms/step - loss: 1243061.8750 - mean_squared_error: 1243061.8750 - val_loss: 1380929.8750 - val_mean_squared_error: 1380929.8750\n",
      "Epoch 437/500\n",
      "437/437 [==============================] - 3s 6ms/step - loss: 1242852.1250 - mean_squared_error: 1242852.1250 - val_loss: 1391294.3750 - val_mean_squared_error: 1391294.3750\n",
      "Epoch 438/500\n",
      "437/437 [==============================] - 2s 5ms/step - loss: 1226695.1250 - mean_squared_error: 1226695.1250 - val_loss: 1388704.0000 - val_mean_squared_error: 1388704.0000\n",
      "Epoch 439/500\n",
      "437/437 [==============================] - 2s 4ms/step - loss: 1236414.3750 - mean_squared_error: 1236414.3750 - val_loss: 1386145.5000 - val_mean_squared_error: 1386145.5000\n",
      "Epoch 440/500\n",
      "437/437 [==============================] - 1s 3ms/step - loss: 1226991.2500 - mean_squared_error: 1226991.2500 - val_loss: 1478017.0000 - val_mean_squared_error: 1478017.0000\n",
      "Epoch 441/500\n",
      "437/437 [==============================] - 1s 3ms/step - loss: 1249107.1250 - mean_squared_error: 1249107.1250 - val_loss: 1386811.1250 - val_mean_squared_error: 1386811.1250\n",
      "Epoch 442/500\n",
      "437/437 [==============================] - 1s 2ms/step - loss: 1220865.8750 - mean_squared_error: 1220865.8750 - val_loss: 1390932.8750 - val_mean_squared_error: 1390932.8750\n",
      "Epoch 443/500\n",
      "437/437 [==============================] - 1s 3ms/step - loss: 1235796.7500 - mean_squared_error: 1235796.7500 - val_loss: 1391600.6250 - val_mean_squared_error: 1391600.6250\n",
      "Epoch 444/500\n",
      "437/437 [==============================] - 1s 2ms/step - loss: 1242077.1250 - mean_squared_error: 1242077.1250 - val_loss: 1391201.6250 - val_mean_squared_error: 1391201.6250\n",
      "Epoch 445/500\n",
      "437/437 [==============================] - 1s 2ms/step - loss: 1239493.6250 - mean_squared_error: 1239493.6250 - val_loss: 1396658.7500 - val_mean_squared_error: 1396658.7500\n",
      "Epoch 446/500\n",
      "437/437 [==============================] - 1s 2ms/step - loss: 1232116.2500 - mean_squared_error: 1232116.2500 - val_loss: 1392791.8750 - val_mean_squared_error: 1392791.8750\n",
      "Epoch 447/500\n",
      "437/437 [==============================] - 1s 3ms/step - loss: 1225936.0000 - mean_squared_error: 1225936.0000 - val_loss: 1419381.3750 - val_mean_squared_error: 1419381.3750\n",
      "Epoch 448/500\n",
      "437/437 [==============================] - 1s 2ms/step - loss: 1249828.1250 - mean_squared_error: 1249828.1250 - val_loss: 1389676.6250 - val_mean_squared_error: 1389676.6250\n",
      "Epoch 449/500\n",
      "437/437 [==============================] - 1s 2ms/step - loss: 1240006.7500 - mean_squared_error: 1240006.7500 - val_loss: 1392158.2500 - val_mean_squared_error: 1392158.2500\n",
      "Epoch 450/500\n",
      "437/437 [==============================] - 1s 3ms/step - loss: 1236621.6250 - mean_squared_error: 1236621.6250 - val_loss: 1400440.3750 - val_mean_squared_error: 1400440.3750\n",
      "Epoch 451/500\n",
      "437/437 [==============================] - 1s 3ms/step - loss: 1236758.8750 - mean_squared_error: 1236758.8750 - val_loss: 1385649.8750 - val_mean_squared_error: 1385649.8750\n",
      "Epoch 452/500\n",
      "437/437 [==============================] - 1s 2ms/step - loss: 1235127.3750 - mean_squared_error: 1235127.3750 - val_loss: 1394033.3750 - val_mean_squared_error: 1394033.3750\n",
      "Epoch 453/500\n",
      "437/437 [==============================] - 1s 2ms/step - loss: 1225466.7500 - mean_squared_error: 1225466.7500 - val_loss: 1393212.6250 - val_mean_squared_error: 1393212.6250\n",
      "Epoch 454/500\n",
      "437/437 [==============================] - 1s 3ms/step - loss: 1212995.7500 - mean_squared_error: 1212995.7500 - val_loss: 1419204.6250 - val_mean_squared_error: 1419204.6250\n",
      "Epoch 455/500\n",
      "437/437 [==============================] - 1s 2ms/step - loss: 1244224.6250 - mean_squared_error: 1244224.6250 - val_loss: 1416908.2500 - val_mean_squared_error: 1416908.2500\n",
      "Epoch 456/500\n",
      "437/437 [==============================] - 1s 2ms/step - loss: 1228338.8750 - mean_squared_error: 1228338.8750 - val_loss: 1398795.3750 - val_mean_squared_error: 1398795.3750\n",
      "Epoch 457/500\n",
      "437/437 [==============================] - 1s 2ms/step - loss: 1243660.6250 - mean_squared_error: 1243660.6250 - val_loss: 1384597.3750 - val_mean_squared_error: 1384597.3750\n",
      "Epoch 458/500\n",
      "437/437 [==============================] - 1s 2ms/step - loss: 1237807.1250 - mean_squared_error: 1237807.1250 - val_loss: 1412694.7500 - val_mean_squared_error: 1412694.7500\n",
      "Epoch 459/500\n",
      "437/437 [==============================] - 1s 2ms/step - loss: 1233837.0000 - mean_squared_error: 1233837.0000 - val_loss: 1386710.6250 - val_mean_squared_error: 1386710.6250\n",
      "Epoch 460/500\n",
      "437/437 [==============================] - 1s 2ms/step - loss: 1227984.8750 - mean_squared_error: 1227984.8750 - val_loss: 1415916.7500 - val_mean_squared_error: 1415916.7500\n",
      "Epoch 461/500\n",
      "437/437 [==============================] - 1s 2ms/step - loss: 1233253.2500 - mean_squared_error: 1233253.2500 - val_loss: 1394278.6250 - val_mean_squared_error: 1394278.6250\n",
      "Epoch 462/500\n",
      "437/437 [==============================] - 1s 2ms/step - loss: 1234527.5000 - mean_squared_error: 1234527.5000 - val_loss: 1383534.1250 - val_mean_squared_error: 1383534.1250\n",
      "Epoch 463/500\n",
      "437/437 [==============================] - 1s 2ms/step - loss: 1243357.7500 - mean_squared_error: 1243357.7500 - val_loss: 1388235.0000 - val_mean_squared_error: 1388235.0000\n",
      "Epoch 464/500\n",
      "437/437 [==============================] - 1s 2ms/step - loss: 1237421.8750 - mean_squared_error: 1237421.8750 - val_loss: 1390671.6250 - val_mean_squared_error: 1390671.6250\n",
      "Epoch 465/500\n",
      "437/437 [==============================] - 1s 2ms/step - loss: 1229999.7500 - mean_squared_error: 1229999.7500 - val_loss: 1391739.7500 - val_mean_squared_error: 1391739.7500\n",
      "Epoch 466/500\n",
      "437/437 [==============================] - 1s 3ms/step - loss: 1232331.2500 - mean_squared_error: 1232331.2500 - val_loss: 1396359.1250 - val_mean_squared_error: 1396359.1250\n",
      "Epoch 467/500\n",
      "437/437 [==============================] - 2s 4ms/step - loss: 1236002.2500 - mean_squared_error: 1236002.2500 - val_loss: 1372831.5000 - val_mean_squared_error: 1372831.5000\n",
      "Epoch 468/500\n",
      "437/437 [==============================] - 1s 2ms/step - loss: 1212481.6250 - mean_squared_error: 1212481.6250 - val_loss: 1418047.5000 - val_mean_squared_error: 1418047.5000\n",
      "Epoch 469/500\n",
      "437/437 [==============================] - 1s 3ms/step - loss: 1231029.6250 - mean_squared_error: 1231029.6250 - val_loss: 1387261.5000 - val_mean_squared_error: 1387261.5000\n",
      "Epoch 470/500\n",
      "437/437 [==============================] - 1s 2ms/step - loss: 1239648.3750 - mean_squared_error: 1239648.3750 - val_loss: 1405153.6250 - val_mean_squared_error: 1405153.6250\n",
      "Epoch 471/500\n",
      "437/437 [==============================] - 1s 2ms/step - loss: 1230218.7500 - mean_squared_error: 1230218.7500 - val_loss: 1393107.2500 - val_mean_squared_error: 1393107.2500\n",
      "Epoch 472/500\n",
      "437/437 [==============================] - 1s 2ms/step - loss: 1234646.0000 - mean_squared_error: 1234646.0000 - val_loss: 1377534.3750 - val_mean_squared_error: 1377534.3750\n",
      "Epoch 473/500\n",
      "437/437 [==============================] - 1s 2ms/step - loss: 1235767.6250 - mean_squared_error: 1235767.6250 - val_loss: 1401585.1250 - val_mean_squared_error: 1401585.1250\n",
      "Epoch 474/500\n",
      "437/437 [==============================] - 1s 2ms/step - loss: 1239918.3750 - mean_squared_error: 1239918.3750 - val_loss: 1373225.8750 - val_mean_squared_error: 1373225.8750\n",
      "Epoch 475/500\n",
      "437/437 [==============================] - 1s 2ms/step - loss: 1239509.1250 - mean_squared_error: 1239509.1250 - val_loss: 1384675.1250 - val_mean_squared_error: 1384675.1250\n",
      "Epoch 476/500\n",
      "437/437 [==============================] - 1s 1ms/step - loss: 1229782.5000 - mean_squared_error: 1229782.5000 - val_loss: 1385513.8750 - val_mean_squared_error: 1385513.8750\n",
      "Epoch 477/500\n",
      "437/437 [==============================] - 1s 2ms/step - loss: 1225881.8750 - mean_squared_error: 1225881.8750 - val_loss: 1405830.3750 - val_mean_squared_error: 1405830.3750\n",
      "Epoch 478/500\n",
      "437/437 [==============================] - 1s 1ms/step - loss: 1248637.3750 - mean_squared_error: 1248637.3750 - val_loss: 1399477.1250 - val_mean_squared_error: 1399477.1250\n",
      "Epoch 479/500\n",
      "437/437 [==============================] - 1s 1ms/step - loss: 1225356.0000 - mean_squared_error: 1225356.0000 - val_loss: 1394409.3750 - val_mean_squared_error: 1394409.3750\n",
      "Epoch 480/500\n",
      "437/437 [==============================] - 1s 2ms/step - loss: 1234372.1250 - mean_squared_error: 1234372.1250 - val_loss: 1377684.5000 - val_mean_squared_error: 1377684.5000\n",
      "Epoch 481/500\n",
      "437/437 [==============================] - 1s 2ms/step - loss: 1225837.8750 - mean_squared_error: 1225837.8750 - val_loss: 1486530.0000 - val_mean_squared_error: 1486530.0000\n",
      "Epoch 482/500\n",
      "437/437 [==============================] - 1s 1ms/step - loss: 1243126.7500 - mean_squared_error: 1243126.7500 - val_loss: 1374689.5000 - val_mean_squared_error: 1374689.5000\n",
      "Epoch 483/500\n",
      "437/437 [==============================] - 1s 2ms/step - loss: 1239288.5000 - mean_squared_error: 1239288.5000 - val_loss: 1382221.7500 - val_mean_squared_error: 1382221.7500\n",
      "Epoch 484/500\n",
      "437/437 [==============================] - 1s 1ms/step - loss: 1233649.0000 - mean_squared_error: 1233649.0000 - val_loss: 1405157.8750 - val_mean_squared_error: 1405157.8750\n",
      "Epoch 485/500\n",
      "437/437 [==============================] - 1s 1ms/step - loss: 1227596.8750 - mean_squared_error: 1227596.8750 - val_loss: 1387224.2500 - val_mean_squared_error: 1387224.2500\n",
      "Epoch 486/500\n",
      "437/437 [==============================] - 1s 1ms/step - loss: 1223482.5000 - mean_squared_error: 1223482.5000 - val_loss: 1451363.6250 - val_mean_squared_error: 1451363.6250\n",
      "Epoch 487/500\n",
      "437/437 [==============================] - 1s 1ms/step - loss: 1244094.0000 - mean_squared_error: 1244094.0000 - val_loss: 1379260.6250 - val_mean_squared_error: 1379260.6250\n",
      "Epoch 488/500\n",
      "437/437 [==============================] - 1s 1ms/step - loss: 1236191.8750 - mean_squared_error: 1236191.8750 - val_loss: 1432602.6250 - val_mean_squared_error: 1432602.6250\n",
      "Epoch 489/500\n",
      "437/437 [==============================] - 1s 1ms/step - loss: 1243960.0000 - mean_squared_error: 1243960.0000 - val_loss: 1381857.0000 - val_mean_squared_error: 1381857.0000\n",
      "Epoch 490/500\n",
      "437/437 [==============================] - 1s 2ms/step - loss: 1230153.6250 - mean_squared_error: 1230153.6250 - val_loss: 1380470.1250 - val_mean_squared_error: 1380470.1250\n",
      "Epoch 491/500\n",
      "437/437 [==============================] - 1s 1ms/step - loss: 1229226.8750 - mean_squared_error: 1229226.8750 - val_loss: 1423831.6250 - val_mean_squared_error: 1423831.6250\n",
      "Epoch 492/500\n",
      "437/437 [==============================] - 1s 1ms/step - loss: 1242473.5000 - mean_squared_error: 1242473.5000 - val_loss: 1378048.1250 - val_mean_squared_error: 1378048.1250\n",
      "Epoch 493/500\n",
      "437/437 [==============================] - 1s 1ms/step - loss: 1250710.2500 - mean_squared_error: 1250710.2500 - val_loss: 1375948.8750 - val_mean_squared_error: 1375948.8750\n",
      "Epoch 494/500\n",
      "437/437 [==============================] - 1s 2ms/step - loss: 1224985.6250 - mean_squared_error: 1224985.6250 - val_loss: 1404565.7500 - val_mean_squared_error: 1404565.7500\n",
      "Epoch 495/500\n",
      "437/437 [==============================] - 1s 2ms/step - loss: 1237043.2500 - mean_squared_error: 1237043.2500 - val_loss: 1377795.5000 - val_mean_squared_error: 1377795.5000\n",
      "Epoch 496/500\n",
      "437/437 [==============================] - 1s 2ms/step - loss: 1235257.3750 - mean_squared_error: 1235257.3750 - val_loss: 1403348.2500 - val_mean_squared_error: 1403348.2500\n",
      "Epoch 497/500\n",
      "437/437 [==============================] - 1s 2ms/step - loss: 1234450.5000 - mean_squared_error: 1234450.5000 - val_loss: 1412460.0000 - val_mean_squared_error: 1412460.0000\n",
      "Epoch 498/500\n",
      "437/437 [==============================] - 1s 2ms/step - loss: 1234554.2500 - mean_squared_error: 1234554.2500 - val_loss: 1386052.6250 - val_mean_squared_error: 1386052.6250\n",
      "Epoch 499/500\n",
      "437/437 [==============================] - 1s 2ms/step - loss: 1221628.1250 - mean_squared_error: 1221628.1250 - val_loss: 1381807.8750 - val_mean_squared_error: 1381807.8750\n",
      "Epoch 500/500\n",
      "437/437 [==============================] - 1s 1ms/step - loss: 1232317.7500 - mean_squared_error: 1232317.7500 - val_loss: 1385831.1250 - val_mean_squared_error: 1385831.1250\n"
     ]
    }
   ],
   "source": [
    "# train model (change # epochs)\n",
    "history = model.fit(X_train, y_train, batch_size=2, epochs=500, verbose=1, validation_split=0.2)"
   ]
  },
  {
   "source": [
    "### Test different Parameter Combinations"
   ],
   "cell_type": "markdown",
   "metadata": {}
  },
  {
   "cell_type": "code",
   "execution_count": 34,
   "metadata": {},
   "outputs": [
    {
     "output_type": "stream",
     "name": "stdout",
     "text": [
      "SSE : 298876311.2510395\nR squared: 0.905\nAdjusted R squared : 0.904\n"
     ]
    }
   ],
   "source": [
    "pred_MLP = model.predict(X_test)\n",
    "select_pred_MLP= pred_MLP[:,0]\n",
    "\n",
    "# print('MSE:\\n',mean_squared_error(y_test,select_pred_MLP))\n",
    "SSE = sum((y_test-select_pred_MLP)**2)\n",
    "print('SSE :',SSE)   \n",
    "R2_MLP = r2_score(y_test, select_pred_MLP)\n",
    "print('R squared: %.3f'\n",
    "      % R2_MLP)\n",
    "AR2_MLP = R2_MLP -((k-1)*(1-R2_MLP)/(n-k)) \n",
    "print('Adjusted R squared : %.3f' % AR2_MLP)\n"
   ]
  },
  {
   "cell_type": "code",
   "execution_count": 40,
   "metadata": {
    "tags": [
     "outputPrepend"
    ]
   },
   "outputs": [
    {
     "output_type": "stream",
     "name": "stdout",
     "text": [
      "1472996.5000 - val_loss: 1619189.5000 - val_mean_squared_error: 1619189.5000\n",
      "Epoch 396/500\n",
      "437/437 [==============================] - 1s 2ms/step - loss: 1472122.6250 - mean_squared_error: 1472122.6250 - val_loss: 1620311.5000 - val_mean_squared_error: 1620311.5000\n",
      "Epoch 397/500\n",
      "437/437 [==============================] - 1s 2ms/step - loss: 1472136.0000 - mean_squared_error: 1472136.0000 - val_loss: 1618367.0000 - val_mean_squared_error: 1618367.0000\n",
      "Epoch 398/500\n",
      "437/437 [==============================] - 1s 1ms/step - loss: 1471475.0000 - mean_squared_error: 1471475.0000 - val_loss: 1617487.2500 - val_mean_squared_error: 1617487.2500\n",
      "Epoch 399/500\n",
      "437/437 [==============================] - 1s 2ms/step - loss: 1472351.3750 - mean_squared_error: 1472351.3750 - val_loss: 1615450.7500 - val_mean_squared_error: 1615450.7500\n",
      "Epoch 400/500\n",
      "437/437 [==============================] - 1s 1ms/step - loss: 1472678.1250 - mean_squared_error: 1472678.1250 - val_loss: 1615369.5000 - val_mean_squared_error: 1615369.5000\n",
      "Epoch 401/500\n",
      "437/437 [==============================] - 1s 1ms/step - loss: 1471423.7500 - mean_squared_error: 1471423.7500 - val_loss: 1618787.2500 - val_mean_squared_error: 1618787.2500\n",
      "Epoch 402/500\n",
      "437/437 [==============================] - 1s 1ms/step - loss: 1470879.7500 - mean_squared_error: 1470879.7500 - val_loss: 1618152.8750 - val_mean_squared_error: 1618152.8750\n",
      "Epoch 403/500\n",
      "437/437 [==============================] - 1s 3ms/step - loss: 1471337.7500 - mean_squared_error: 1471337.7500 - val_loss: 1616880.6250 - val_mean_squared_error: 1616880.6250\n",
      "Epoch 404/500\n",
      "437/437 [==============================] - 1s 3ms/step - loss: 1471683.1250 - mean_squared_error: 1471683.1250 - val_loss: 1616884.0000 - val_mean_squared_error: 1616884.0000\n",
      "Epoch 405/500\n",
      "437/437 [==============================] - 1s 1ms/step - loss: 1471424.6250 - mean_squared_error: 1471424.6250 - val_loss: 1617755.0000 - val_mean_squared_error: 1617755.0000\n",
      "Epoch 406/500\n",
      "437/437 [==============================] - 1s 2ms/step - loss: 1471624.8750 - mean_squared_error: 1471624.8750 - val_loss: 1614967.1250 - val_mean_squared_error: 1614967.1250\n",
      "Epoch 407/500\n",
      "437/437 [==============================] - 2s 5ms/step - loss: 1470746.3750 - mean_squared_error: 1470746.3750 - val_loss: 1615602.8750 - val_mean_squared_error: 1615602.8750\n",
      "Epoch 408/500\n",
      "437/437 [==============================] - 1s 2ms/step - loss: 1470715.6250 - mean_squared_error: 1470715.6250 - val_loss: 1617771.1250 - val_mean_squared_error: 1617771.1250\n",
      "Epoch 409/500\n",
      "437/437 [==============================] - 1s 1ms/step - loss: 1470270.5000 - mean_squared_error: 1470270.5000 - val_loss: 1615423.2500 - val_mean_squared_error: 1615423.2500\n",
      "Epoch 410/500\n",
      "437/437 [==============================] - 1s 1ms/step - loss: 1471064.6250 - mean_squared_error: 1471064.6250 - val_loss: 1614636.6250 - val_mean_squared_error: 1614636.6250\n",
      "Epoch 411/500\n",
      "437/437 [==============================] - 1s 1ms/step - loss: 1470977.8750 - mean_squared_error: 1470977.8750 - val_loss: 1616309.3750 - val_mean_squared_error: 1616309.3750\n",
      "Epoch 412/500\n",
      "437/437 [==============================] - 1s 1ms/step - loss: 1470436.1250 - mean_squared_error: 1470436.1250 - val_loss: 1615332.8750 - val_mean_squared_error: 1615332.8750\n",
      "Epoch 413/500\n",
      "437/437 [==============================] - 1s 1ms/step - loss: 1470101.5000 - mean_squared_error: 1470101.5000 - val_loss: 1614347.1250 - val_mean_squared_error: 1614347.1250\n",
      "Epoch 414/500\n",
      "437/437 [==============================] - 2s 4ms/step - loss: 1470002.1250 - mean_squared_error: 1470002.1250 - val_loss: 1616604.8750 - val_mean_squared_error: 1616604.8750\n",
      "Epoch 415/500\n",
      "437/437 [==============================] - 1s 2ms/step - loss: 1469134.5000 - mean_squared_error: 1469134.5000 - val_loss: 1613469.1250 - val_mean_squared_error: 1613469.1250\n",
      "Epoch 416/500\n",
      "437/437 [==============================] - 1s 2ms/step - loss: 1469204.2500 - mean_squared_error: 1469204.2500 - val_loss: 1615039.2500 - val_mean_squared_error: 1615039.2500\n",
      "Epoch 417/500\n",
      "437/437 [==============================] - 1s 1ms/step - loss: 1468946.1250 - mean_squared_error: 1468946.1250 - val_loss: 1615200.6250 - val_mean_squared_error: 1615200.6250\n",
      "Epoch 418/500\n",
      "437/437 [==============================] - 1s 2ms/step - loss: 1469630.2500 - mean_squared_error: 1469630.2500 - val_loss: 1613605.3750 - val_mean_squared_error: 1613605.3750\n",
      "Epoch 419/500\n",
      "437/437 [==============================] - 1s 2ms/step - loss: 1469210.7500 - mean_squared_error: 1469210.7500 - val_loss: 1614157.7500 - val_mean_squared_error: 1614157.7500\n",
      "Epoch 420/500\n",
      "437/437 [==============================] - 1s 2ms/step - loss: 1469421.8750 - mean_squared_error: 1469421.8750 - val_loss: 1615693.0000 - val_mean_squared_error: 1615693.0000\n",
      "Epoch 421/500\n",
      "437/437 [==============================] - 1s 2ms/step - loss: 1468617.7500 - mean_squared_error: 1468617.7500 - val_loss: 1614117.8750 - val_mean_squared_error: 1614117.8750\n",
      "Epoch 422/500\n",
      "437/437 [==============================] - 1s 2ms/step - loss: 1468818.7500 - mean_squared_error: 1468818.7500 - val_loss: 1614122.5000 - val_mean_squared_error: 1614122.5000\n",
      "Epoch 423/500\n",
      "437/437 [==============================] - 1s 2ms/step - loss: 1468404.0000 - mean_squared_error: 1468404.0000 - val_loss: 1612047.3750 - val_mean_squared_error: 1612047.3750\n",
      "Epoch 424/500\n",
      "437/437 [==============================] - 1s 1ms/step - loss: 1468552.5000 - mean_squared_error: 1468552.5000 - val_loss: 1612977.3750 - val_mean_squared_error: 1612977.3750\n",
      "Epoch 425/500\n",
      "437/437 [==============================] - 1s 2ms/step - loss: 1469186.5000 - mean_squared_error: 1469186.5000 - val_loss: 1611464.6250 - val_mean_squared_error: 1611464.6250\n",
      "Epoch 426/500\n",
      "437/437 [==============================] - 1s 1ms/step - loss: 1468481.1250 - mean_squared_error: 1468481.1250 - val_loss: 1611578.7500 - val_mean_squared_error: 1611578.7500\n",
      "Epoch 427/500\n",
      "437/437 [==============================] - 1s 3ms/step - loss: 1468767.5000 - mean_squared_error: 1468767.5000 - val_loss: 1612577.8750 - val_mean_squared_error: 1612577.8750\n",
      "Epoch 428/500\n",
      "437/437 [==============================] - 1s 2ms/step - loss: 1468274.5000 - mean_squared_error: 1468274.5000 - val_loss: 1611986.7500 - val_mean_squared_error: 1611986.7500\n",
      "Epoch 429/500\n",
      "437/437 [==============================] - 1s 2ms/step - loss: 1468020.8750 - mean_squared_error: 1468020.8750 - val_loss: 1610993.6250 - val_mean_squared_error: 1610993.6250\n",
      "Epoch 430/500\n",
      "437/437 [==============================] - 1s 2ms/step - loss: 1467506.0000 - mean_squared_error: 1467506.0000 - val_loss: 1610670.0000 - val_mean_squared_error: 1610670.0000\n",
      "Epoch 431/500\n",
      "437/437 [==============================] - 1s 1ms/step - loss: 1468502.2500 - mean_squared_error: 1468502.2500 - val_loss: 1613383.5000 - val_mean_squared_error: 1613383.5000\n",
      "Epoch 432/500\n",
      "437/437 [==============================] - 1s 2ms/step - loss: 1468261.5000 - mean_squared_error: 1468261.5000 - val_loss: 1606690.2500 - val_mean_squared_error: 1606690.2500\n",
      "Epoch 433/500\n",
      "437/437 [==============================] - 1s 2ms/step - loss: 1467560.2500 - mean_squared_error: 1467560.2500 - val_loss: 1609505.3750 - val_mean_squared_error: 1609505.3750\n",
      "Epoch 434/500\n",
      "437/437 [==============================] - 1s 2ms/step - loss: 1468660.0000 - mean_squared_error: 1468660.0000 - val_loss: 1610367.2500 - val_mean_squared_error: 1610367.2500\n",
      "Epoch 435/500\n",
      "437/437 [==============================] - 1s 3ms/step - loss: 1468164.0000 - mean_squared_error: 1468164.0000 - val_loss: 1609695.7500 - val_mean_squared_error: 1609695.7500\n",
      "Epoch 436/500\n",
      "437/437 [==============================] - 1s 2ms/step - loss: 1467685.0000 - mean_squared_error: 1467685.0000 - val_loss: 1609221.0000 - val_mean_squared_error: 1609221.0000\n",
      "Epoch 437/500\n",
      "437/437 [==============================] - 1s 1ms/step - loss: 1468376.1250 - mean_squared_error: 1468376.1250 - val_loss: 1611836.7500 - val_mean_squared_error: 1611836.7500\n",
      "Epoch 438/500\n",
      "437/437 [==============================] - 1s 2ms/step - loss: 1467242.3750 - mean_squared_error: 1467242.3750 - val_loss: 1610603.3750 - val_mean_squared_error: 1610603.3750\n",
      "Epoch 439/500\n",
      "437/437 [==============================] - 1s 2ms/step - loss: 1467287.0000 - mean_squared_error: 1467287.0000 - val_loss: 1609289.5000 - val_mean_squared_error: 1609289.5000\n",
      "Epoch 440/500\n",
      "437/437 [==============================] - 1s 1ms/step - loss: 1467532.1250 - mean_squared_error: 1467532.1250 - val_loss: 1610405.1250 - val_mean_squared_error: 1610405.1250\n",
      "Epoch 441/500\n",
      "437/437 [==============================] - 1s 2ms/step - loss: 1467260.8750 - mean_squared_error: 1467260.8750 - val_loss: 1610168.8750 - val_mean_squared_error: 1610168.8750\n",
      "Epoch 442/500\n",
      "437/437 [==============================] - 1s 2ms/step - loss: 1466270.6250 - mean_squared_error: 1466270.6250 - val_loss: 1610328.8750 - val_mean_squared_error: 1610328.8750\n",
      "Epoch 443/500\n",
      "437/437 [==============================] - 1s 2ms/step - loss: 1466555.7500 - mean_squared_error: 1466555.7500 - val_loss: 1607375.3750 - val_mean_squared_error: 1607375.3750\n",
      "Epoch 444/500\n",
      "437/437 [==============================] - 1s 2ms/step - loss: 1467627.2500 - mean_squared_error: 1467627.2500 - val_loss: 1609180.7500 - val_mean_squared_error: 1609180.7500\n",
      "Epoch 445/500\n",
      "437/437 [==============================] - 1s 2ms/step - loss: 1466459.1250 - mean_squared_error: 1466459.1250 - val_loss: 1610119.0000 - val_mean_squared_error: 1610119.0000\n",
      "Epoch 446/500\n",
      "437/437 [==============================] - 1s 2ms/step - loss: 1466631.0000 - mean_squared_error: 1466631.0000 - val_loss: 1607716.1250 - val_mean_squared_error: 1607716.1250\n",
      "Epoch 447/500\n",
      "437/437 [==============================] - 1s 1ms/step - loss: 1465964.5000 - mean_squared_error: 1465964.5000 - val_loss: 1609922.6250 - val_mean_squared_error: 1609922.6250\n",
      "Epoch 448/500\n",
      "437/437 [==============================] - 1s 1ms/step - loss: 1466064.2500 - mean_squared_error: 1466064.2500 - val_loss: 1608670.5000 - val_mean_squared_error: 1608670.5000\n",
      "Epoch 449/500\n",
      "437/437 [==============================] - 1s 2ms/step - loss: 1465059.8750 - mean_squared_error: 1465059.8750 - val_loss: 1606981.2500 - val_mean_squared_error: 1606981.2500\n",
      "Epoch 450/500\n",
      "437/437 [==============================] - 1s 2ms/step - loss: 1466037.0000 - mean_squared_error: 1466037.0000 - val_loss: 1607459.1250 - val_mean_squared_error: 1607459.1250\n",
      "Epoch 451/500\n",
      "437/437 [==============================] - 1s 2ms/step - loss: 1465317.6250 - mean_squared_error: 1465317.6250 - val_loss: 1610104.0000 - val_mean_squared_error: 1610104.0000\n",
      "Epoch 452/500\n",
      "437/437 [==============================] - 1s 2ms/step - loss: 1465200.5000 - mean_squared_error: 1465200.5000 - val_loss: 1608947.7500 - val_mean_squared_error: 1608947.7500\n",
      "Epoch 453/500\n",
      "437/437 [==============================] - 1s 2ms/step - loss: 1465717.8750 - mean_squared_error: 1465717.8750 - val_loss: 1610568.8750 - val_mean_squared_error: 1610568.8750\n",
      "Epoch 454/500\n",
      "437/437 [==============================] - 1s 2ms/step - loss: 1465320.2500 - mean_squared_error: 1465320.2500 - val_loss: 1607705.8750 - val_mean_squared_error: 1607705.8750\n",
      "Epoch 455/500\n",
      "437/437 [==============================] - 1s 1ms/step - loss: 1465028.3750 - mean_squared_error: 1465028.3750 - val_loss: 1606114.5000 - val_mean_squared_error: 1606114.5000\n",
      "Epoch 456/500\n",
      "437/437 [==============================] - 1s 2ms/step - loss: 1464757.5000 - mean_squared_error: 1464757.5000 - val_loss: 1607567.6250 - val_mean_squared_error: 1607567.6250\n",
      "Epoch 457/500\n",
      "437/437 [==============================] - 1s 2ms/step - loss: 1465208.6250 - mean_squared_error: 1465208.6250 - val_loss: 1607200.6250 - val_mean_squared_error: 1607200.6250\n",
      "Epoch 458/500\n",
      "437/437 [==============================] - 1s 2ms/step - loss: 1465456.3750 - mean_squared_error: 1465456.3750 - val_loss: 1608782.5000 - val_mean_squared_error: 1608782.5000\n",
      "Epoch 459/500\n",
      "437/437 [==============================] - 1s 2ms/step - loss: 1464591.5000 - mean_squared_error: 1464591.5000 - val_loss: 1606820.3750 - val_mean_squared_error: 1606820.3750\n",
      "Epoch 460/500\n",
      "437/437 [==============================] - 1s 2ms/step - loss: 1464435.0000 - mean_squared_error: 1464435.0000 - val_loss: 1607764.2500 - val_mean_squared_error: 1607764.2500\n",
      "Epoch 461/500\n",
      "437/437 [==============================] - 1s 2ms/step - loss: 1465027.5000 - mean_squared_error: 1465027.5000 - val_loss: 1608488.0000 - val_mean_squared_error: 1608488.0000\n",
      "Epoch 462/500\n",
      "437/437 [==============================] - 1s 2ms/step - loss: 1464087.6250 - mean_squared_error: 1464087.6250 - val_loss: 1606889.0000 - val_mean_squared_error: 1606889.0000\n",
      "Epoch 463/500\n",
      "437/437 [==============================] - 1s 2ms/step - loss: 1463627.7500 - mean_squared_error: 1463627.7500 - val_loss: 1604489.3750 - val_mean_squared_error: 1604489.3750\n",
      "Epoch 464/500\n",
      "437/437 [==============================] - 1s 1ms/step - loss: 1464036.1250 - mean_squared_error: 1464036.1250 - val_loss: 1604437.3750 - val_mean_squared_error: 1604437.3750\n",
      "Epoch 465/500\n",
      "437/437 [==============================] - 1s 1ms/step - loss: 1464131.7500 - mean_squared_error: 1464131.7500 - val_loss: 1603689.5000 - val_mean_squared_error: 1603689.5000\n",
      "Epoch 466/500\n",
      "437/437 [==============================] - 1s 2ms/step - loss: 1464702.8750 - mean_squared_error: 1464702.8750 - val_loss: 1607659.1250 - val_mean_squared_error: 1607659.1250\n",
      "Epoch 467/500\n",
      "437/437 [==============================] - 1s 2ms/step - loss: 1463286.3750 - mean_squared_error: 1463286.3750 - val_loss: 1605843.3750 - val_mean_squared_error: 1605843.3750\n",
      "Epoch 468/500\n",
      "437/437 [==============================] - 1s 2ms/step - loss: 1464418.8750 - mean_squared_error: 1464418.8750 - val_loss: 1607471.0000 - val_mean_squared_error: 1607471.0000\n",
      "Epoch 469/500\n",
      "437/437 [==============================] - 1s 3ms/step - loss: 1463167.1250 - mean_squared_error: 1463167.1250 - val_loss: 1604418.0000 - val_mean_squared_error: 1604418.0000\n",
      "Epoch 470/500\n",
      "437/437 [==============================] - 1s 3ms/step - loss: 1464135.1250 - mean_squared_error: 1464135.1250 - val_loss: 1606100.6250 - val_mean_squared_error: 1606100.6250\n",
      "Epoch 471/500\n",
      "437/437 [==============================] - 1s 2ms/step - loss: 1463536.0000 - mean_squared_error: 1463536.0000 - val_loss: 1602395.6250 - val_mean_squared_error: 1602395.6250\n",
      "Epoch 472/500\n",
      "437/437 [==============================] - 1s 2ms/step - loss: 1463650.3750 - mean_squared_error: 1463650.3750 - val_loss: 1606495.2500 - val_mean_squared_error: 1606495.2500\n",
      "Epoch 473/500\n",
      "437/437 [==============================] - 1s 2ms/step - loss: 1463292.8750 - mean_squared_error: 1463292.8750 - val_loss: 1607193.7500 - val_mean_squared_error: 1607193.7500\n",
      "Epoch 474/500\n",
      "437/437 [==============================] - 1s 1ms/step - loss: 1462830.3750 - mean_squared_error: 1462830.3750 - val_loss: 1603387.6250 - val_mean_squared_error: 1603387.6250\n",
      "Epoch 475/500\n",
      "437/437 [==============================] - 1s 2ms/step - loss: 1462395.0000 - mean_squared_error: 1462395.0000 - val_loss: 1602449.2500 - val_mean_squared_error: 1602449.2500\n",
      "Epoch 476/500\n",
      "437/437 [==============================] - 1s 1ms/step - loss: 1462884.7500 - mean_squared_error: 1462884.7500 - val_loss: 1605052.8750 - val_mean_squared_error: 1605052.8750\n",
      "Epoch 477/500\n",
      "437/437 [==============================] - 1s 1ms/step - loss: 1462560.2500 - mean_squared_error: 1462560.2500 - val_loss: 1602580.1250 - val_mean_squared_error: 1602580.1250\n",
      "Epoch 478/500\n",
      "437/437 [==============================] - 1s 2ms/step - loss: 1463283.3750 - mean_squared_error: 1463283.3750 - val_loss: 1603414.3750 - val_mean_squared_error: 1603414.3750\n",
      "Epoch 479/500\n",
      "437/437 [==============================] - 1s 2ms/step - loss: 1463170.0000 - mean_squared_error: 1463170.0000 - val_loss: 1602831.6250 - val_mean_squared_error: 1602831.6250\n",
      "Epoch 480/500\n",
      "437/437 [==============================] - 1s 2ms/step - loss: 1462829.1250 - mean_squared_error: 1462829.1250 - val_loss: 1602675.2500 - val_mean_squared_error: 1602675.2500\n",
      "Epoch 481/500\n",
      "437/437 [==============================] - 1s 2ms/step - loss: 1462470.8750 - mean_squared_error: 1462470.8750 - val_loss: 1606384.2500 - val_mean_squared_error: 1606384.2500\n",
      "Epoch 482/500\n",
      "437/437 [==============================] - 1s 2ms/step - loss: 1463279.2500 - mean_squared_error: 1463279.2500 - val_loss: 1603587.2500 - val_mean_squared_error: 1603587.2500\n",
      "Epoch 483/500\n",
      "437/437 [==============================] - 1s 1ms/step - loss: 1462019.6250 - mean_squared_error: 1462019.6250 - val_loss: 1604194.6250 - val_mean_squared_error: 1604194.6250\n",
      "Epoch 484/500\n",
      "437/437 [==============================] - 1s 1ms/step - loss: 1461987.7500 - mean_squared_error: 1461987.7500 - val_loss: 1605272.1250 - val_mean_squared_error: 1605272.1250\n",
      "Epoch 485/500\n",
      "437/437 [==============================] - 1s 1ms/step - loss: 1462358.2500 - mean_squared_error: 1462358.2500 - val_loss: 1604470.5000 - val_mean_squared_error: 1604470.5000\n",
      "Epoch 486/500\n",
      "437/437 [==============================] - 1s 1ms/step - loss: 1462137.8750 - mean_squared_error: 1462137.8750 - val_loss: 1602497.1250 - val_mean_squared_error: 1602497.1250\n",
      "Epoch 487/500\n",
      "437/437 [==============================] - 1s 2ms/step - loss: 1462274.0000 - mean_squared_error: 1462274.0000 - val_loss: 1601971.1250 - val_mean_squared_error: 1601971.1250\n",
      "Epoch 488/500\n",
      "437/437 [==============================] - 1s 2ms/step - loss: 1462814.6250 - mean_squared_error: 1462814.6250 - val_loss: 1602255.7500 - val_mean_squared_error: 1602255.7500\n",
      "Epoch 489/500\n",
      "437/437 [==============================] - 1s 1ms/step - loss: 1462469.1250 - mean_squared_error: 1462469.1250 - val_loss: 1604308.6250 - val_mean_squared_error: 1604308.6250\n",
      "Epoch 490/500\n",
      "437/437 [==============================] - 1s 2ms/step - loss: 1461335.8750 - mean_squared_error: 1461335.8750 - val_loss: 1600241.2500 - val_mean_squared_error: 1600241.2500\n",
      "Epoch 491/500\n",
      "437/437 [==============================] - 1s 1ms/step - loss: 1460984.1250 - mean_squared_error: 1460984.1250 - val_loss: 1601071.5000 - val_mean_squared_error: 1601071.5000\n",
      "Epoch 492/500\n",
      "437/437 [==============================] - 1s 1ms/step - loss: 1461193.1250 - mean_squared_error: 1461193.1250 - val_loss: 1603916.1250 - val_mean_squared_error: 1603916.1250\n",
      "Epoch 493/500\n",
      "437/437 [==============================] - 1s 1ms/step - loss: 1461178.8750 - mean_squared_error: 1461178.8750 - val_loss: 1602335.7500 - val_mean_squared_error: 1602335.7500\n",
      "Epoch 494/500\n",
      "437/437 [==============================] - 1s 1ms/step - loss: 1461132.0000 - mean_squared_error: 1461132.0000 - val_loss: 1602091.2500 - val_mean_squared_error: 1602091.2500\n",
      "Epoch 495/500\n",
      "437/437 [==============================] - 1s 1ms/step - loss: 1461569.5000 - mean_squared_error: 1461569.5000 - val_loss: 1603222.6250 - val_mean_squared_error: 1603222.6250\n",
      "Epoch 496/500\n",
      "437/437 [==============================] - 1s 1ms/step - loss: 1460156.3750 - mean_squared_error: 1460156.3750 - val_loss: 1601163.1250 - val_mean_squared_error: 1601163.1250\n",
      "Epoch 497/500\n",
      "437/437 [==============================] - 1s 1ms/step - loss: 1461645.0000 - mean_squared_error: 1461645.0000 - val_loss: 1600010.2500 - val_mean_squared_error: 1600010.2500\n",
      "Epoch 498/500\n",
      "437/437 [==============================] - 1s 1ms/step - loss: 1460733.6250 - mean_squared_error: 1460733.6250 - val_loss: 1599284.2500 - val_mean_squared_error: 1599284.2500\n",
      "Epoch 499/500\n",
      "437/437 [==============================] - 1s 2ms/step - loss: 1460111.3750 - mean_squared_error: 1460111.3750 - val_loss: 1598122.3750 - val_mean_squared_error: 1598122.3750\n",
      "Epoch 500/500\n",
      "437/437 [==============================] - 1s 1ms/step - loss: 1460446.6250 - mean_squared_error: 1460446.6250 - val_loss: 1598903.3750 - val_mean_squared_error: 1598903.3750\n",
      "SSE: 331368426.0261302\n",
      "R2: 0.8944178438297519\n",
      "Adjusted R2: 0.8928478489424619\n"
     ]
    }
   ],
   "source": [
    "# to change parameters easily, use the MLP_function \n",
    "# MLP_function(X,X_train,X_test,y_train,y_test,num_neuron,bsize,num_epoch,val)\n",
    "\n",
    "MLP_function(X,X_train,X_test,y_train,y_test,70,2,500,0.2)\n",
    "# MLP_function(X,X_train,X_test,y_train,y_test,80,2,500,0.2)\n",
    "# MLP_function(X,X_train,X_test,y_train,y_test,100,2,500,0.2)"
   ]
  },
  {
   "cell_type": "code",
   "execution_count": null,
   "metadata": {},
   "outputs": [],
   "source": []
  }
 ]
}
